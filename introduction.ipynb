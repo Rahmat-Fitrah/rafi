{
 "cells": [
  {
   "cell_type": "markdown",
   "id": "9c1da2c3-e0cf-4d3d-a729-8285c9b638af",
   "metadata": {},
   "source": [
    "<center><img src=\"https://cdn.freebiesupply.com/logos/large/2x/python-5-logo-svg-vector.svg\" width=\"200\"></center>\n",
    "<h4><br>Jenis cell di <b>Jupyter Notbooks</b> ada 2</h4>\n",
    "<ol>\n",
    "    <li>Mark Down (M)</li>\n",
    "    <li>Code (y)</li>\n",
    "</ol>\n",
    "<hr>"
   ]
  },
  {
   "cell_type": "markdown",
   "id": "2bc85309-e614-4efb-ae4b-3eb2082a3bb4",
   "metadata": {},
   "source": [
    "<h2>cara nambah cell ada 2</h2>\n",
    "<ul>\n",
    "    <li>Above(A)</li>\n",
    "    <li>Below(B)</li>\n",
    "</ul>\n",
    "\n",
    "<table>\n",
    "    <tr>\n",
    "        <th>Perintah</th>\n",
    "        <th>Keterangan</th>\n",
    "    </tr>\n",
    "    <tr>\n",
    "        <td>Ctrl + enter</td>\n",
    "        <td>Running dan fokus di cell</td>\n",
    "    </tr>\n",
    "    <tr>\n",
    "        <td>Shift + enter</td>\n",
    "        <td>Running dan fokus di cell berikiutnya</td>\n",
    "    </tr>\n",
    "</table>"
   ]
  },
  {
   "cell_type": "code",
   "execution_count": 2,
   "id": "965ed1ed-4ca1-4e6f-9b68-c1096e54dfa5",
   "metadata": {},
   "outputs": [
    {
     "name": "stdout",
     "output_type": "stream",
     "text": [
      "Pyton is very easy\n",
      "5\n",
      "sekarang Hari Jum'at\n",
      "Deklarasi variabel \"A\"\n",
      "15\n",
      "10\n"
     ]
    },
    {
     "data": {
      "text/plain": [
       "105"
      ]
     },
     "execution_count": 2,
     "metadata": {},
     "output_type": "execute_result"
    }
   ],
   "source": [
    "print(\"Pyton is very easy\")\n",
    "data = 5 \n",
    "data2 = \"10\"\n",
    "print(data)\n",
    "print(\"sekarang Hari Jum'at\")\n",
    "print('Deklarasi variabel \"A\"')\n",
    "print(data + int (data2))\n",
    "print(data2)\n",
    "data2\n",
    "data + 100"
   ]
  },
  {
   "cell_type": "code",
   "execution_count": null,
   "id": "fb2c6ebf-b98d-4235-9c7f-693f7f622567",
   "metadata": {},
   "outputs": [],
   "source": []
  },
  {
   "cell_type": "code",
   "execution_count": null,
   "id": "4835f5ca-0d2a-48f1-a1aa-ab5c4edd10d4",
   "metadata": {},
   "outputs": [],
   "source": []
  }
 ],
 "metadata": {
  "kernelspec": {
   "display_name": "Python [conda env:base] *",
   "language": "python",
   "name": "conda-base-py"
  },
  "language_info": {
   "codemirror_mode": {
    "name": "ipython",
    "version": 3
   },
   "file_extension": ".py",
   "mimetype": "text/x-python",
   "name": "python",
   "nbconvert_exporter": "python",
   "pygments_lexer": "ipython3",
   "version": "3.12.7"
  }
 },
 "nbformat": 4,
 "nbformat_minor": 5
}
