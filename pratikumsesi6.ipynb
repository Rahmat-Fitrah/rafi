{
 "cells": [
  {
   "cell_type": "code",
   "execution_count": 29,
   "id": "01006b6d-7e53-4526-8a7c-4780eb88e60e",
   "metadata": {},
   "outputs": [
    {
     "ename": "SyntaxError",
     "evalue": "expected ':' (2334648909.py, line 16)",
     "output_type": "error",
     "traceback": [
      "\u001b[1;36m  Cell \u001b[1;32mIn[29], line 16\u001b[1;36m\u001b[0m\n\u001b[1;33m    if (hasilCoding == \"LOLOS\" or hasilCoding == \"dipertimbangkan\")\u001b[0m\n\u001b[1;37m                                                                   ^\u001b[0m\n\u001b[1;31mSyntaxError\u001b[0m\u001b[1;31m:\u001b[0m expected ':'\n"
     ]
    }
   ],
   "source": [
    "nilai_coding = int(input(\"Masukan Nilai coding\"))\n",
    "nilai_interview = int(input(\"masukan nilai interview\"))\n",
    "hasilCoding = \"\"\n",
    "hasilInterview = \"\"\n",
    "if nilai_coding > 80:\n",
    "   hasilCoding = \"Tes LOLOS\"\n",
    "elif nilai_coding > 60:\n",
    "   hasilCoding = \"Tes dipertimbangkan\"\n",
    "else :\n",
    "    hasilCoding = \"Tes GAGAl\"\n",
    "if nilai_interview == \"A\" and nilai_interview == \"B\":\n",
    "    hasilInterview == \"LOLOS INTERVIEW\"\n",
    "else :\n",
    "    hasilInterview ==\"GAGAL TES\"\n",
    "\n",
    "if (hasilCoding == \"LOLOS\" or hasilCoding == \"dipertimbangkan\") and hasilInterview == \"\n",
    "    print(\"selamat, kamu berhasil menjadi calon programer\")\n",
    "else:\n",
    "    print(\"maaf, kamu belum berhasil menjadi calon programer\")"
   ]
  },
  {
   "cell_type": "code",
   "execution_count": null,
   "id": "3958bac6-ea5b-4a3d-b078-f78182a85819",
   "metadata": {},
   "outputs": [],
   "source": []
  }
 ],
 "metadata": {
  "kernelspec": {
   "display_name": "Python [conda env:base] *",
   "language": "python",
   "name": "conda-base-py"
  },
  "language_info": {
   "codemirror_mode": {
    "name": "ipython",
    "version": 3
   },
   "file_extension": ".py",
   "mimetype": "text/x-python",
   "name": "python",
   "nbconvert_exporter": "python",
   "pygments_lexer": "ipython3",
   "version": "3.12.7"
  }
 },
 "nbformat": 4,
 "nbformat_minor": 5
}
