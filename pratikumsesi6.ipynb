{
 "cells": [
  {
   "cell_type": "code",
   "execution_count": 47,
   "id": "01006b6d-7e53-4526-8a7c-4780eb88e60e",
   "metadata": {},
   "outputs": [
    {
     "name": "stdin",
     "output_type": "stream",
     "text": [
      "Masukan Nilai coding 87\n",
      "masukan nilai interview A\n"
     ]
    },
    {
     "name": "stdout",
     "output_type": "stream",
     "text": [
      "LOLOS\n",
      "GAGAL\n",
      "maaf, kamu belum berhasil menjadi calon programer\n"
     ]
    }
   ],
   "source": [
    "nilai_coding = int(input(\"Masukan Nilai coding\"))\n",
    "nilai_interview = input(\"masukan nilai interview\")\n",
    "hasilCoding = \"\"\n",
    "hasilInterview = \"\"\n",
    "if nilai_coding > 80:\n",
    "   hasilCoding = \"LOLOS\"\n",
    "elif nilai_coding > 60:\n",
    "   hasilCoding = \"dipertimbangkan\"\n",
    "else :\n",
    "    hasilCoding = \"GAGAl\"\n",
    "if nilai_interview == \"A\" and nilai_interview == \"B\":\n",
    "    hasilInterview = \"LOLOS\"\n",
    "else :\n",
    "    hasilInterview = \"GAGAL\"\n",
    "\n",
    "print(hasilCoding)\n",
    "print(hasilInterview)\n",
    "\n",
    "if (hasilCoding == \"LOLOS\" or hasilCoding == \"dipertimbangkan\") and hasilInterview == \"LOLOS\":\n",
    "    print(\"selamat, kamu berhasil menjadi calon programer\")\n",
    "else:\n",
    "    print(\"maaf, kamu belum berhasil menjadi calon programer\")"
   ]
  },
  {
   "cell_type": "code",
   "execution_count": null,
   "id": "3958bac6-ea5b-4a3d-b078-f78182a85819",
   "metadata": {},
   "outputs": [],
   "source": []
  }
 ],
 "metadata": {
  "kernelspec": {
   "display_name": "Python [conda env:base] *",
   "language": "python",
   "name": "conda-base-py"
  },
  "language_info": {
   "codemirror_mode": {
    "name": "ipython",
    "version": 3
   },
   "file_extension": ".py",
   "mimetype": "text/x-python",
   "name": "python",
   "nbconvert_exporter": "python",
   "pygments_lexer": "ipython3",
   "version": "3.12.7"
  }
 },
 "nbformat": 4,
 "nbformat_minor": 5
}
