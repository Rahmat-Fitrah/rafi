{
 "cells": [
  {
   "cell_type": "code",
   "execution_count": 20,
   "id": "6b69f51c-2693-431b-83ce-4dcb30cd5f92",
   "metadata": {},
   "outputs": [
    {
     "name": "stdout",
     "output_type": "stream",
     "text": [
      "Nama : rahmat_fitrah\n",
      "Umur : 15\n",
      "Alamat : JL.K.Ahamad_Sanusi\n",
      "province : 7413412\n",
      "Nilai pemrograman : 90.5\n",
      "Status Menikah : True\n"
     ]
    }
   ],
   "source": [
    "name = \"rahmat_fitrah\"\n",
    "age = 15\n",
    "address,province = \"JL.K.Ahamad_Sanusi\",\"7413412\"\n",
    "pythonScore = 90.5\n",
    "isMarried = True\n",
    "\n",
    "print(\"Nama :\",name)\n",
    "print(\"Umur :\",age)\n",
    "print(\"Alamat :\",address)\n",
    "print(\"province :\",province)\n",
    "print(\"Nilai pemrograman :\",pythonScore)\n",
    "print(\"Status Menikah :\",isMarried)"
   ]
  },
  {
   "cell_type": "code",
   "execution_count": 22,
   "id": "e2a426ef-56b8-473a-9867-c4133bf5c6d0",
   "metadata": {},
   "outputs": [
    {
     "name": "stdout",
     "output_type": "stream",
     "text": [
      "Tipe Data (Nama) : <class 'str'>\n",
      "Tipe Data (age) : <class 'int'>\n",
      "Tipe Data (address) : <class 'str'>\n",
      "Tipe Data (province) : <class 'str'>\n",
      "Tipe Data (scorePyhon) : <class 'float'>\n",
      "Tipe Data (Status Menikah) : <class 'bool'>\n"
     ]
    }
   ],
   "source": [
    "print(\"Tipe Data (Nama) :\",type (name))\n",
    "print(\"Tipe Data (age) :\",type (age))\n",
    "print(\"Tipe Data (address) :\",type (address))\n",
    "print(\"Tipe Data (province) :\",type (province))\n",
    "print(\"Tipe Data (scorePyhon) :\",type (pythonScore))\n",
    "print(\"Tipe Data (Status Menikah) :\",type (isMarried))"
   ]
  },
  {
   "cell_type": "code",
   "execution_count": 24,
   "id": "3d9f1ba4-155c-4b8c-91ae-f82bcb9391f3",
   "metadata": {},
   "outputs": [
    {
     "name": "stdout",
     "output_type": "stream",
     "text": [
      "7413414 7413412.0 True\n",
      "15 15.0 True\n",
      "90.5 90 True\n",
      "True 1 1.0\n"
     ]
    }
   ],
   "source": [
    "#Casting atau Konversi Tipe Data\n",
    "\n",
    "strToInt = int(province)\n",
    "strToFloat = float(province)\n",
    "strToBool = bool(province)\n",
    "print(strToInt+2,strToFloat,strToBool)\n",
    "\n",
    "intToStr = str(age)\n",
    "intToFloat = float(age)\n",
    "intToBool = bool(age)\n",
    "\n",
    "print(intToStr,intToFloat,intToBool)\n",
    "\n",
    "intToStr = str(pythonScore)\n",
    "intToint = int(pythonScore)\n",
    "intToBool = bool(pythonScore)\n",
    "\n",
    "print(intToStr,intToint,intToBool)\n",
    "\n",
    "intToStr = str(isMarried)\n",
    "intToInt = int(isMarried)\n",
    "intToFloal = float(isMarried)\n",
    "\n",
    "print(intToStr,intToInt,intToFloal)"
   ]
  },
  {
   "cell_type": "code",
   "execution_count": 26,
   "id": "8d03c376-dfc8-4212-a858-4a44865c9326",
   "metadata": {},
   "outputs": [
    {
     "name": "stdout",
     "output_type": "stream",
     "text": [
      "j\n",
      "8\n",
      "a\n"
     ]
    }
   ],
   "source": [
    "#String adalah kumpulan dari beberapa karakter dan immutable\n",
    "city = \"jayapura\"\n",
    "panjang = len(city)\n",
    "print(city[0])\n",
    "print(len(city))\n",
    "print(city[panjang-1])"
   ]
  },
  {
   "cell_type": "code",
   "execution_count": 28,
   "id": "dc14ce58-cea7-4610-b95e-a217aa884aa5",
   "metadata": {},
   "outputs": [
    {
     "name": "stdout",
     "output_type": "stream",
     "text": [
      "Nilai desimal: 500\n",
      "Nilai biner: 10\n",
      "Nilai octal: 255\n",
      "Nilai hexa: 255\n",
      "Biner dari 500 : 0b111110100\n",
      "octal dari 500 : 0o764\n",
      "hexadesimal dari 500 : 0x1f4\n"
     ]
    }
   ],
   "source": [
    "desimal = 500\n",
    "biner = 0b1010\n",
    "octal = 0o377\n",
    "hexa = 0xff\n",
    "\n",
    "print(\"Nilai desimal:\",desimal)\n",
    "print(\"Nilai biner:\",biner)\n",
    "print(\"Nilai octal:\",octal)\n",
    "print(\"Nilai hexa:\",hexa)\n",
    "\n",
    "print(\"Biner dari\",desimal,\":\",bin(desimal))\n",
    "print(\"octal dari\",desimal,\":\",oct(desimal))\n",
    "print(\"hexadesimal dari\",desimal,\":\",hex(desimal))"
   ]
  },
  {
   "cell_type": "code",
   "execution_count": 18,
   "id": "a135e291-e637-4d2a-9787-3dcd3874ca94",
   "metadata": {},
   "outputs": [
    {
     "name": "stdout",
     "output_type": "stream",
     "text": [
      "['Sukabumi', 'Malang', 'Bandung', 'Jayapura']\n",
      "Sukabumi\n",
      "Jayapura\n",
      "['Sukabumi', 'Jakarta', 'Bandung', 'Jayapura']\n",
      "('Basket', 'Foot Baal', 'Sholat')\n",
      "Basket\n",
      "[{'name': 'Andi', 'age': 20, 'alamat': {'jalan': 'JL. Cibolang Kaler', 'nomer': 21, 'provinsi': 'kab. Sukabumi'}}, {'name': 'budi', 'age': 40, 'alamat': {'jalan': 'JL. Cibolang Kaler', 'nomer': 41, 'provinsi': 'kab. Sukabumi'}}]\n",
      "Andi\n",
      "kab. Sukabumi\n"
     ]
    }
   ],
   "source": [
    "#Tipe data Collection\n",
    "cities = [\"Sukabumi\",\"Malang\",\"Bandung\",\"Jayapura\"]\n",
    "print(cities)\n",
    "print(cities[0])\n",
    "print(cities[len(cities)-1])\n",
    "cities[1] = \"Jakarta\"\n",
    "print(cities)\n",
    "\n",
    "hobbies = (\"Basket\",\"Foot Baal\",\"Sholat\")\n",
    "print(hobbies)\n",
    "print(hobbies[0])\n",
    "#hobbies[0] = \"Watching Netflix\" error program\n",
    "studentData = {\n",
    "    \"name\" : \"Andi\",\n",
    "    \"age\" : 20,\n",
    "    \"alamat\": {\n",
    "        \"jalan\" : \"JL. Cibolang Kaler\",\n",
    "        \"nomer\" : 21,\n",
    "        \"provinsi\" : \"kab. Sukabumi\"\n",
    "}\n",
    "}\n",
    "\n",
    "studentList = [\n",
    "    {\n",
    "    \"name\" : \"Andi\",\n",
    "    \"age\" : 20,\n",
    "    \"alamat\": {\n",
    "        \"jalan\" : \"JL. Cibolang Kaler\",\n",
    "        \"nomer\" : 21,\n",
    "        \"provinsi\" : \"kab. Sukabumi\"\n",
    "}\n",
    "},\n",
    "    {\n",
    "    \"name\" : \"budi\",\n",
    "    \"age\" : 40,\n",
    "    \"alamat\": {\n",
    "        \"jalan\" : \"JL. Cibolang Kaler\",\n",
    "        \"nomer\" : 41,\n",
    "        \"provinsi\" : \"kab. Sukabumi\"\n",
    "}\n",
    "}\n",
    "]\n",
    "print(studentList)\n",
    "print(studentData[\"name\"])\n",
    "print(studentData[\"alamat\"][\"provinsi\"])"
   ]
  }
 ],
 "metadata": {
  "kernelspec": {
   "display_name": "Python [conda env:base] *",
   "language": "python",
   "name": "conda-base-py"
  },
  "language_info": {
   "codemirror_mode": {
    "name": "ipython",
    "version": 3
   },
   "file_extension": ".py",
   "mimetype": "text/x-python",
   "name": "python",
   "nbconvert_exporter": "python",
   "pygments_lexer": "ipython3",
   "version": "3.12.7"
  }
 },
 "nbformat": 4,
 "nbformat_minor": 5
}
