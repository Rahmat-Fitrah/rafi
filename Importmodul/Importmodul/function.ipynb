{
 "cells": [
  {
   "cell_type": "code",
   "execution_count": 1,
   "id": "fccec76b-4ead-4962-a67d-7f3c1a325af6",
   "metadata": {},
   "outputs": [
    {
     "name": "stdout",
     "output_type": "stream",
     "text": [
      "hallo, apa kabar\n",
      "hallo, apa kabar\n"
     ]
    }
   ],
   "source": [
    "#Funngsi tanpa parameter, ada return value\n",
    "def greeting():\n",
    "    print(\"hallo, apa kabar\")\n",
    "greeting()\n",
    "greeting()"
   ]
  },
  {
   "cell_type": "code",
   "execution_count": 19,
   "id": "fdd6061c-9131-4dcf-8506-f6490b742da0",
   "metadata": {},
   "outputs": [
    {
     "name": "stdout",
     "output_type": "stream",
     "text": [
      "Sekarang tanggal:2025-05-27\n",
      "1\n",
      "Sekarang Weekend\n"
     ]
    }
   ],
   "source": [
    "import datetime\n",
    "def showDate():\n",
    "    today = datetime.date.today()\n",
    "    print(f\"Sekarang tanggal:{today}\")\n",
    "\n",
    "def isWeekend():\n",
    "    today = datetime.date.today().weekday()\n",
    "    print(today)\n",
    "    if today < 5:\n",
    "        print(\"Sekarang Weekend\")\n",
    "    else:\n",
    "        print(\"Sekarang Weekend\")\n",
    "        \n",
    "showDate()\n",
    "isWeekend()"
   ]
  },
  {
   "cell_type": "code",
   "execution_count": 27,
   "id": "04de47f2-7e1e-46ae-bbf0-0563a51d1361",
   "metadata": {},
   "outputs": [
    {
     "name": "stdout",
     "output_type": "stream",
     "text": [
      "andi fahmi robi\n",
      "andi fahmi robi,S.kom\n"
     ]
    }
   ],
   "source": [
    "#fungsi dengan parameter, tidak ada return value\n",
    "def getFullName(first,middle,last):\n",
    "    print(f\"{first} {middle} {last}\")\n",
    "    \n",
    "#fungsi dengan parameter dan return value\n",
    "def getName(first,middle,last):\n",
    "    return f\"{first} {middle} {last}\"\n",
    "    \n",
    "getFullName(\"andi\",\"fahmi\",\"robi\")\n",
    "myname = getName(\"andi\",\"fahmi\",\"robi\")\n",
    "title = \"S.kom\"\n",
    "print(f\"{myname},{title}\")"
   ]
  },
  {
   "cell_type": "code",
   "execution_count": 33,
   "id": "25d8fa5c-091a-496b-9f77-c6b9a2408a6e",
   "metadata": {},
   "outputs": [
    {
     "name": "stdout",
     "output_type": "stream",
     "text": [
      "Hasil penjumlahan 5 dan 6 : 11\n",
      "Hasil perkalian 10 dan 3 : 30\n",
      "hasil penjumlahan 11 dan 30 : 41\n"
     ]
    }
   ],
   "source": [
    "#fungsi aritmatika\n",
    "def add(num1,num2):\n",
    "    return num1 + num2\n",
    "\n",
    "def multiply(num1,num2):\n",
    "    return num1 *num2\n",
    "\n",
    "r1 = add(5,6) #11\n",
    "r2 = multiply(10,3) #30\n",
    "r3 = add(r1,r2) #41\n",
    "\n",
    "print(f\"Hasil penjumlahan 5 dan 6 : {r1}\")\n",
    "print(f\"Hasil perkalian 10 dan 3 : {r2}\")\n",
    "print(f\"hasil penjumlahan {r1} dan {r2} : {r3}\")"
   ]
  },
  {
   "cell_type": "code",
   "execution_count": 51,
   "id": "62781d8d-4726-4316-a33b-1cd69ca94e48",
   "metadata": {},
   "outputs": [
    {
     "name": "stdout",
     "output_type": "stream",
     "text": [
      "Hasil Penjumlahan:11\n",
      "Hasil Perkalian:30\n"
     ]
    }
   ],
   "source": [
    "#fungsi dengan return lebih dari 1\n",
    "def arithmatic(num1,num2):\n",
    "    add = num1 + num2\n",
    "    multiply = num1 * num2\n",
    "    return add,multiply\n",
    "\n",
    "tambah,kali = arithmatic(5,6)\n",
    "print(f\"Hasil Penjumlahan:{tambah}\")\n",
    "print(f\"Hasil Perkalian:{kali}\")"
   ]
  },
  {
   "cell_type": "code",
   "execution_count": 87,
   "id": "c4d93b53-e439-42bc-b51a-112cdc7a4466",
   "metadata": {},
   "outputs": [
    {
     "name": "stdout",
     "output_type": "stream",
     "text": [
      "Registeration failed(password must be more than 5)\n",
      "Registeration failed(Username must be more than 3)\n"
     ]
    }
   ],
   "source": [
    "#fungsi dengan nilai default\n",
    "def userRegisteration(email,username,password,status=\"Belum aktif\"):\n",
    "    result = \"\"\n",
    "    if(len(username)> 3):\n",
    "        if(len(password)> 5):\n",
    "            result += f\"Registeration is successfull\\n\"\n",
    "            result += f\"Username:{username}\\n\"\n",
    "            result += f\"password:{password}\\n\"\n",
    "            result += f\"Email:{email}\\n\"\n",
    "            result += f\"Status:{status}\"\n",
    "            return  result\n",
    "        else:\n",
    "            return \"Registeration failed(password must be more than 5)\"\n",
    "    else:\n",
    "        return \"Registeration failed(Username must be more than 3)\"\n",
    "        \n",
    "print(userRegisteration(\"rafi@gmail\",\"rf5641\",\"54362\",\"aktif\"))\n",
    "print(userRegisteration(\"rafi@gmail\",\"rf1\",\"543622\",\"aktif\"))"
   ]
  },
  {
   "cell_type": "code",
   "execution_count": 129,
   "id": "3159c235-00d5-4362-a9cb-8a4aa0f89ace",
   "metadata": {},
   "outputs": [
    {
     "name": "stdout",
     "output_type": "stream",
     "text": [
      "Registeration failed(Username must be more than 3\n",
      "Registeration failed(password must be more than 5)\n",
      "\n"
     ]
    }
   ],
   "source": [
    "#fungsi dengan nilai default\n",
    "def checkPassword(password):\n",
    "    result = \"\"\n",
    "    if(len(password)<=5):\n",
    "        result = \"Registeration failed(password must be more than 5)\\n\"\n",
    "    return result\n",
    "\n",
    "def checkUsername(username):\n",
    "    result = \"\"\n",
    "    if(len(username)<=4):\n",
    "        result = \"Registeration failed(Username must be more than 3)\\n\"\n",
    "    return result\n",
    "    \n",
    "def userRegisteration(email,username,password,status=\"Belum aktif\"):\n",
    "    user = checkUsername(username)\n",
    "    pwd = checkPassword(password)\n",
    "    result = \"\"\n",
    "    if(len(user) > 0):\n",
    "        result += user\n",
    "        \n",
    "    if(len(pwd) > 0):\n",
    "        result +=pwd\n",
    "        \n",
    "    if(len(result)==0):\n",
    "            result += f\"Registeration is successfull\\n\"\n",
    "            result += f\"Username:{username}\\n\"\n",
    "            result += f\"password:{password}\\n\"\n",
    "            result += f\"Email:{email}\\n\"\n",
    "            result += f\"Status:{status}\"\n",
    "    return  result       \n",
    "print(userRegisteration(\"rafi@gmail\",\"rf54\",\"5433\",\"aktif\"))"
   ]
  },
  {
   "cell_type": "code",
   "execution_count": 131,
   "id": "f60f0b66-a294-4de3-aea3-e9fb153a5f18",
   "metadata": {},
   "outputs": [
    {
     "name": "stdin",
     "output_type": "stream",
     "text": [
      "Angka 1: 14\n",
      "Angka 2: 21\n"
     ]
    },
    {
     "name": "stdout",
     "output_type": "stream",
     "text": [
      "35\n",
      "294\n",
      "1171355575953987221848064\n"
     ]
    }
   ],
   "source": [
    "import  Aritmatika.math as math\n",
    "angka1 = int(input(\"Angka 1:\"))\n",
    "angka2 = int(input(\"Angka 2:\"))\n",
    "\n",
    "r1 = math.add(angka1,angka2)\n",
    "r2 = math.multiply(angka1,angka2)\n",
    "r3 = math.pow(angka1,angka2)\n",
    "print(r1)\n",
    "print(r2)\n",
    "print(r3)"
   ]
  },
  {
   "cell_type": "code",
   "execution_count": 137,
   "id": "21503946-a993-4654-8566-f46e356cec31",
   "metadata": {},
   "outputs": [
    {
     "name": "stdin",
     "output_type": "stream",
     "text": [
      "isikan panjang 32\n"
     ]
    },
    {
     "name": "stdout",
     "output_type": "stream",
     "text": [
      "panjang dalam cm : 32\n",
      "panjang dalam meter : 0.32\n"
     ]
    }
   ],
   "source": [
    "from Konversi.convert import cmToMeter as cToM\n",
    "\n",
    "angka = int(input(\"isikan panjang\"))\n",
    "r1 = cToM(angka)\n",
    "print(f\"panjang dalam cm : {angka}\")\n",
    "print(f\"panjang dalam meter : {r1}\")"
   ]
  },
  {
   "cell_type": "code",
   "execution_count": 139,
   "id": "6fe873d2-596d-494b-b629-9f4b0f3a9910",
   "metadata": {},
   "outputs": [
    {
     "name": "stdin",
     "output_type": "stream",
     "text": [
      "Isikan panjang dalam (meter) 23\n",
      "isikan panjang dalam (centimeter) 43\n"
     ]
    },
    {
     "name": "stdout",
     "output_type": "stream",
     "text": [
      "panjang dalam cm : 3200\n",
      "panjang dalam meter : 0.32\n"
     ]
    }
   ],
   "source": [
    "from Konversi.convert import cmToMeter, meterToCm\n",
    "\n",
    "meter = int(input(\"Isikan panjang dalam (meter)\"))\n",
    "cm = int(input(\"isikan panjang dalam (centimeter)\"))\n",
    "\n",
    "r1 = meterToCm(angka)\n",
    "r2= cmToMeter(angka)\n",
    "print(f\"panjang dalam cm : {r1}\")\n",
    "print(f\"panjang dalam meter : {r2}\")"
   ]
  },
  {
   "cell_type": "code",
   "execution_count": null,
   "id": "85102ce1-6eb9-4e90-8433-84c4289d5b79",
   "metadata": {},
   "outputs": [],
   "source": []
  }
 ],
 "metadata": {
  "kernelspec": {
   "display_name": "Python [conda env:base] *",
   "language": "python",
   "name": "conda-base-py"
  },
  "language_info": {
   "codemirror_mode": {
    "name": "ipython",
    "version": 3
   },
   "file_extension": ".py",
   "mimetype": "text/x-python",
   "name": "python",
   "nbconvert_exporter": "python",
   "pygments_lexer": "ipython3",
   "version": "3.12.7"
  }
 },
 "nbformat": 4,
 "nbformat_minor": 5
}
