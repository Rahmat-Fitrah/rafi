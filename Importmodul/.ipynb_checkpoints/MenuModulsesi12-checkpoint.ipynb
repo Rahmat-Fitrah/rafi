{
 "cells": [
  {
   "cell_type": "code",
   "execution_count": 57,
   "id": "de960e9e-2b2e-4555-a028-7893be9c47c3",
   "metadata": {},
   "outputs": [],
   "source": [
    "import Aritmatika.math as math\n",
    "import Konversi.convert as convert\n",
    "import binary.UbahBilangan as Binary"
   ]
  },
  {
   "cell_type": "code",
   "execution_count": 59,
   "id": "0c4cb29c-430f-41e5-a15f-78251a38050a",
   "metadata": {},
   "outputs": [],
   "source": [
    "def Aritmatika():\n",
    "    num1 = int(input(\"Masukan angka pertama: \"))\n",
    "    num2 = int(input(\"Masukan angka kedua: \"))\n",
    "    print(\"\"\"\n",
    "    Pilih Metode:\n",
    "    1. Penjumlahan\n",
    "    2. Perkalian\n",
    "    3. Perpangkatan\n",
    "    \"\"\")\n",
    "    choice = int(input(\"(1/2/3): \"))\n",
    "    if choice == 1:\n",
    "        r1 = math.add(num1,num2)\n",
    "        print(r1)\n",
    "    elif choice == 2:\n",
    "        r2 = math.multiply(num1,num2)\n",
    "        print(r2)\n",
    "    elif choice == 3:\n",
    "        r3 = math.pow(num1,num2)\n",
    "        print(r3)\n",
    "    else:\n",
    "        print(\"Input tidak valid!\")"
   ]
  },
  {
   "cell_type": "code",
   "execution_count": 61,
   "id": "02f67a0f-79dd-425a-a732-585365dc8d96",
   "metadata": {},
   "outputs": [],
   "source": [
    "def Konversi():\n",
    "    print(\"\"\"\n",
    "    Pilih Metode:\n",
    "    1. M to CM\n",
    "    2. CM to M\n",
    "    \"\"\")\n",
    "    choice = int(input(\"(1/2): \"))\n",
    "    if choice == 1:\n",
    "        meter = int(input(\"Masukan nilai meter: \"))\n",
    "        r1 = convert.meterToCm(meter)\n",
    "        print(f\"Panjang dalam cm: {r1}\")\n",
    "    elif choice == 2:\n",
    "        cm = int(input(\"Masukan nilai cm: \"))\n",
    "        r2 = convert.cmToMeter(cm)\n",
    "        print(f\"Panjang dalam meter: {r2}\")\n",
    "    else:\n",
    "        print(\"Input tidak valid!\")"
   ]
  },
  {
   "cell_type": "code",
   "execution_count": 63,
   "id": "353e2bea-18d4-4238-a8bf-6d1fd850ba26",
   "metadata": {},
   "outputs": [],
   "source": [
    "def change():\n",
    "    decim = int(input(\"Masukan Bilangan Desimal: \"))\n",
    "    print(\"\"\"\n",
    "    Pilih Metode:\n",
    "    1. Decimal to Biner\n",
    "    2. Decimal to Octal\n",
    "    3. Decimal to Hexa\n",
    "    \"\"\")\n",
    "    choice = int(input(\"(1/2/3): \"))\n",
    "    if choice == 1:\n",
    "        r1 = ceng.binary(decim)\n",
    "        print(f\"Desimal ke biner adalah: {r1}\")\n",
    "    elif choice == 2:\n",
    "        r1 = ceng.octal(decim)\n",
    "        print(f\"Desimal ke octal adalah: {r1}\")\n",
    "    elif choice == 3:\n",
    "        r1 = ceng.hexa(decim)\n",
    "        print(f\"Desimal ke hexa adalah: {r1}\")\n",
    "    else:\n",
    "        print(\"Input tidak valid!\")"
   ]
  },
  {
   "cell_type": "code",
   "execution_count": 65,
   "id": "40f8b49d-ff52-4a1b-832f-8626296b88c9",
   "metadata": {},
   "outputs": [
    {
     "name": "stdout",
     "output_type": "stream",
     "text": [
      "\n",
      "    \n",
      "    Pilih Kegiatan:\n",
      "        1. Aritmatika\n",
      "        2. Konversi\n",
      "        3. Ubah Bilangan\n",
      "        4. Exit\n",
      "    \n"
     ]
    },
    {
     "name": "stdin",
     "output_type": "stream",
     "text": [
      "Masukan input (1/2/3/4):\n",
      " 1\n",
      "Masukan angka pertama:  12\n",
      "Masukan angka kedua:  21\n"
     ]
    },
    {
     "name": "stdout",
     "output_type": "stream",
     "text": [
      "\n",
      "    Pilih Metode:\n",
      "    1. Penjumlahan\n",
      "    2. Perkalian\n",
      "    3. Perpangkatan\n",
      "    \n"
     ]
    },
    {
     "name": "stdin",
     "output_type": "stream",
     "text": [
      "(1/2/3):  1\n"
     ]
    },
    {
     "name": "stdout",
     "output_type": "stream",
     "text": [
      "33\n",
      "\n",
      "    \n",
      "    Pilih Kegiatan:\n",
      "        1. Aritmatika\n",
      "        2. Konversi\n",
      "        3. Ubah Bilangan\n",
      "        4. Exit\n",
      "    \n"
     ]
    },
    {
     "name": "stdin",
     "output_type": "stream",
     "text": [
      "Masukan input (1/2/3/4):\n",
      " 12\n"
     ]
    },
    {
     "name": "stdout",
     "output_type": "stream",
     "text": [
      "Input tidak valid!\n",
      "\n",
      "    \n",
      "    Pilih Kegiatan:\n",
      "        1. Aritmatika\n",
      "        2. Konversi\n",
      "        3. Ubah Bilangan\n",
      "        4. Exit\n",
      "    \n"
     ]
    },
    {
     "name": "stdin",
     "output_type": "stream",
     "text": [
      "Masukan input (1/2/3/4):\n",
      " 3\n",
      "Masukan Bilangan Desimal:  42\n"
     ]
    },
    {
     "name": "stdout",
     "output_type": "stream",
     "text": [
      "\n",
      "    Pilih Metode:\n",
      "    1. Decimal to Biner\n",
      "    2. Decimal to Octal\n",
      "    3. Decimal to Hexa\n",
      "    \n"
     ]
    },
    {
     "name": "stdin",
     "output_type": "stream",
     "text": [
      "(1/2/3):  3\n"
     ]
    },
    {
     "ename": "NameError",
     "evalue": "name 'ceng' is not defined",
     "output_type": "error",
     "traceback": [
      "\u001b[1;31m---------------------------------------------------------------------------\u001b[0m",
      "\u001b[1;31mNameError\u001b[0m                                 Traceback (most recent call last)",
      "Cell \u001b[1;32mIn[65], line 20\u001b[0m\n\u001b[0;32m     18\u001b[0m     conv()\n\u001b[0;32m     19\u001b[0m \u001b[38;5;28;01melif\u001b[39;00m choice \u001b[38;5;241m==\u001b[39m \u001b[38;5;241m3\u001b[39m:\n\u001b[1;32m---> 20\u001b[0m     change()\n\u001b[0;32m     21\u001b[0m \u001b[38;5;28;01melif\u001b[39;00m choice \u001b[38;5;241m==\u001b[39m \u001b[38;5;241m4\u001b[39m:\n\u001b[0;32m     22\u001b[0m     \u001b[38;5;28mprint\u001b[39m(\u001b[38;5;124m\"\u001b[39m\u001b[38;5;124mTerimakasih sudah menggunakan menu!\u001b[39m\u001b[38;5;124m\"\u001b[39m)\n",
      "Cell \u001b[1;32mIn[63], line 17\u001b[0m, in \u001b[0;36mchange\u001b[1;34m()\u001b[0m\n\u001b[0;32m     15\u001b[0m     \u001b[38;5;28mprint\u001b[39m(\u001b[38;5;124mf\u001b[39m\u001b[38;5;124m\"\u001b[39m\u001b[38;5;124mDesimal ke octal adalah: \u001b[39m\u001b[38;5;132;01m{\u001b[39;00mr1\u001b[38;5;132;01m}\u001b[39;00m\u001b[38;5;124m\"\u001b[39m)\n\u001b[0;32m     16\u001b[0m \u001b[38;5;28;01melif\u001b[39;00m choice \u001b[38;5;241m==\u001b[39m \u001b[38;5;241m3\u001b[39m:\n\u001b[1;32m---> 17\u001b[0m     r1 \u001b[38;5;241m=\u001b[39m ceng\u001b[38;5;241m.\u001b[39mhexa(decim)\n\u001b[0;32m     18\u001b[0m     \u001b[38;5;28mprint\u001b[39m(\u001b[38;5;124mf\u001b[39m\u001b[38;5;124m\"\u001b[39m\u001b[38;5;124mDesimal ke hexa adalah: \u001b[39m\u001b[38;5;132;01m{\u001b[39;00mr1\u001b[38;5;132;01m}\u001b[39;00m\u001b[38;5;124m\"\u001b[39m)\n\u001b[0;32m     19\u001b[0m \u001b[38;5;28;01melse\u001b[39;00m:\n",
      "\u001b[1;31mNameError\u001b[0m: name 'ceng' is not defined"
     ]
    }
   ],
   "source": [
    "import Aritmatika.math as math\n",
    "import Konversi.convert as convert\n",
    "import binary.UbahBilangan as Binary\n",
    "\n",
    "while True:\n",
    "    print(\"\"\"\n",
    "    \n",
    "    Pilih Kegiatan:\n",
    "        1. Aritmatika\n",
    "        2. Konversi\n",
    "        3. Ubah Bilangan\n",
    "        4. Exit\n",
    "    \"\"\")\n",
    "    choice = int(input(\"Masukan input (1/2/3/4):\\n\"))\n",
    "    if choice == 1:\n",
    "        aritmetik()\n",
    "    elif choice == 2:\n",
    "        conv()\n",
    "    elif choice == 3:\n",
    "        change()\n",
    "    elif choice == 4:\n",
    "        print(\"Terimakasih sudah menggunakan menu!\")\n",
    "        break\n",
    "    else:\n",
    "        print(\"Input tidak valid!\")"
   ]
  },
  {
   "cell_type": "code",
   "execution_count": null,
   "id": "b1c66de0-f21a-4b44-8459-4f9a486b9f26",
   "metadata": {},
   "outputs": [],
   "source": []
  }
 ],
 "metadata": {
  "kernelspec": {
   "display_name": "Python [conda env:base] *",
   "language": "python",
   "name": "conda-base-py"
  },
  "language_info": {
   "codemirror_mode": {
    "name": "ipython",
    "version": 3
   },
   "file_extension": ".py",
   "mimetype": "text/x-python",
   "name": "python",
   "nbconvert_exporter": "python",
   "pygments_lexer": "ipython3",
   "version": "3.12.7"
  }
 },
 "nbformat": 4,
 "nbformat_minor": 5
}
