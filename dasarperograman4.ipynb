{
 "cells": [
  {
   "cell_type": "markdown",
   "id": "bbe40b08-b223-48a0-8cf6-4c01266171d5",
   "metadata": {},
   "source": [
    "<h1>Operator Aritmatika</h1>"
   ]
  },
  {
   "cell_type": "code",
   "execution_count": 15,
   "id": "eca66524-4638-409d-8f60-4175fbf543b5",
   "metadata": {},
   "outputs": [
    {
     "name": "stdin",
     "output_type": "stream",
     "text": [
      "Isikan Nilai X: 43\n",
      "Isikan Nilai y: 23\n"
     ]
    },
    {
     "name": "stdout",
     "output_type": "stream",
     "text": [
      "Hasil Penjumlahan 43 + 23 = 66\n",
      "Hasil Pengurangan 43 - 23 = 20\n",
      "Hasil Perkalian 43 * 23 = 989\n",
      "Hasil Penbagian 43 / 23 = 1.8695652173913044\n",
      "Hasil Modulus 43 % 23 = 20\n",
      "Hasil Pangkat 43 ^ 23 = 37134234731477575983465092780473537507\n",
      "Hasil Pembagian Bulan 43 // 23 = 1\n"
     ]
    }
   ],
   "source": [
    "x = input (\"Isikan Nilai X:\")\n",
    "y = input (\"Isikan Nilai y:\")\n",
    "x = int (x)\n",
    "y = int (y)\n",
    "\n",
    "hasilTambah = x + y\n",
    "hasilKurang = x - y\n",
    "hasilKali = x * y\n",
    "hasilbagi = x / y\n",
    "hasilMod = x % y\n",
    "hasilpangkat = x ** y\n",
    "hasilDiv = x // y\n",
    "\n",
    "print(\"Hasil Penjumlahan\",x,\"+\",y,\"=\",hasilTambah)\n",
    "print(\"Hasil Pengurangan\",x,\"-\",y,\"=\",hasilKurang)\n",
    "print(\"Hasil Perkalian\",x,\"*\",y,\"=\",hasilKali)\n",
    "print(\"Hasil Penbagian\",x,\"/\",y,\"=\",hasilbagi)\n",
    "print(\"Hasil Modulus\",x,\"%\",y,\"=\",hasilMod)\n",
    "print(\"Hasil Pangkat\",x,\"^\",y,\"=\",hasilpangkat)\n",
    "print(\"Hasil Pembagian Bulan\",x,\"//\",y,\"=\",hasilDiv)\n"
   ]
  },
  {
   "cell_type": "markdown",
   "id": "1d594d87-d30e-4583-af22-2ee2f85bdd7e",
   "metadata": {},
   "source": [
    "<h1>Operator Penugasan</h1>"
   ]
  },
  {
   "cell_type": "code",
   "execution_count": 13,
   "id": "bf21a278-6c13-432a-a801-23dd3279cbc1",
   "metadata": {},
   "outputs": [
    {
     "name": "stdin",
     "output_type": "stream",
     "text": [
      "Isikan Nilai Awal 44\n"
     ]
    },
    {
     "name": "stdout",
     "output_type": "stream",
     "text": [
      "Nilai Awal : 44\n",
      "Setelah ditambah + 3= 47\n",
      "Kemudian Dikurangi dengan 5= 42\n",
      "Selanjutnya dikali dengan 3= 126\n",
      "Proses trakhir dibagi dengan 2= 63.0\n"
     ]
    }
   ],
   "source": [
    "nilaiAwal = int(input(\"Isikan Nilai Awal\"))\n",
    "\n",
    "print(\"Nilai Awal :\",nilaiAwal)\n",
    "nilaiAwal+=3\n",
    "\n",
    "print(\"Setelah ditambah + 3=\",nilaiAwal)\n",
    "nilaiAwal-=5\n",
    "\n",
    "print(\"Kemudian Dikurangi dengan 5=\",nilaiAwal)\n",
    "nilaiAwal*=3\n",
    "\n",
    "print(\"Selanjutnya dikali dengan 3=\",nilaiAwal)\n",
    "nilaiAwal/=2\n",
    "\n",
    "print(\"Proses trakhir dibagi dengan 2=\",nilaiAwal)"
   ]
  },
  {
   "cell_type": "markdown",
   "id": "111c7bd7-6c4f-4394-ad97-c6989fb88778",
   "metadata": {},
   "source": [
    "<h1>Operator Pembandian</h1>"
   ]
  },
  {
   "cell_type": "code",
   "execution_count": 10,
   "id": "4e91aa41-5a9b-4680-aaa6-8f3ce66b2768",
   "metadata": {},
   "outputs": [
    {
     "name": "stdin",
     "output_type": "stream",
     "text": [
      "Isikan Nilai fval : 7\n",
      "Isikan Nilai fval : 5\n"
     ]
    },
    {
     "name": "stdout",
     "output_type": "stream",
     "text": [
      "7 = 5 False\n",
      "7 = 5 True\n",
      "7 = 5 True\n",
      "7 = 5 False\n",
      "7 = 5 True\n"
     ]
    }
   ],
   "source": [
    "fVal = int(input(\"Isikan Nilai fval :\"))\n",
    "sVal = int(input(\"Isikan Nilai fval :\"))\n",
    "\n",
    "print(fVal,\"=\",sVal,fVal==sVal)\n",
    "print(fVal,\"=\",sVal,fVal!=sVal)\n",
    "print(fVal,\"=\",sVal,fVal>sVal)\n",
    "print(fVal,\"=\",sVal,fVal<sVal)\n",
    "print(fVal,\"=\",sVal,fVal>=sVal)"
   ]
  },
  {
   "cell_type": "markdown",
   "id": "d4c02122-208c-4b4d-b25e-ebee58010828",
   "metadata": {},
   "source": [
    "<h1>Operator Logika</h1>"
   ]
  },
  {
   "cell_type": "code",
   "execution_count": 26,
   "id": "91b7b7df-c178-40d4-99b4-5f9c2c9ea7d9",
   "metadata": {},
   "outputs": [
    {
     "name": "stdin",
     "output_type": "stream",
     "text": [
      "Isikan Bilangan 1 : 7\n",
      "Isikan Bilangan 2 : 5\n"
     ]
    },
    {
     "name": "stdout",
     "output_type": "stream",
     "text": [
      "Bilangan 1: 7\n",
      "Bilangan 2: 5\n",
      "Apakah Bil. 1 mod 2 = 0 dan Bil. 2 lebih besar dari 3? False\n",
      "Apakah Bil. 1 mod 2 = 0 dan Bil. 2 lebih besar dari 3? True\n",
      "Apakah Bil. 1 mod 2 = 0 dan Bil. 2 lebih besar dari 3? False\n"
     ]
    }
   ],
   "source": [
    "num_1 = int(input(\"Isikan Bilangan 1 :\"))\n",
    "num_2 = int(input(\"Isikan Bilangan 2 :\"))\n",
    "\n",
    "print(\"Bilangan 1:\",num_1)\n",
    "print(\"Bilangan 2:\",num_2)\n",
    "\n",
    "print(\"Apakah Bil. 1 mod 2 = 0 dan Bil. 2 lebih besar dari 3?\",num_1 % 2==0 and num_2 > 3)\n",
    "print(\"Apakah Bil. 1 mod 2 = 0 dan Bil. 2 lebih besar dari 3?\",num_1 % 2==0 or num_2 > 3)\n",
    "print(\"Apakah Bil. 1 mod 2 = 0 dan Bil. 2 lebih besar dari 3?\",not(num_1 % 2==0 or num_2 > 3))"
   ]
  },
  {
   "cell_type": "markdown",
   "id": "6910b6ba-3302-476e-8bfa-466b8d8c5073",
   "metadata": {},
   "source": [
    "<h1>Operator Identitas</h1>"
   ]
  },
  {
   "cell_type": "code",
   "execution_count": 37,
   "id": "0e3b2237-e60f-4035-83ea-70e8861c5664",
   "metadata": {},
   "outputs": [
    {
     "name": "stdout",
     "output_type": "stream",
     "text": [
      "True\n",
      "False\n",
      "True\n",
      "Memory Address dari val1 2728314268112\n",
      "Memory Address dari val2 140720915557080\n",
      "Memory Address dari val3 140720915557080\n"
     ]
    },
    {
     "name": "stderr",
     "output_type": "stream",
     "text": [
      "<>:1: SyntaxWarning: \"is\" with 'str' literal. Did you mean \"==\"?\n",
      "<>:1: SyntaxWarning: \"is\" with 'str' literal. Did you mean \"==\"?\n",
      "C:\\Users\\rahma\\AppData\\Local\\Temp\\ipykernel_19344\\1222627556.py:1: SyntaxWarning: \"is\" with 'str' literal. Did you mean \"==\"?\n",
      "  print(\"Andi\" is \"Andi\")\n"
     ]
    }
   ],
   "source": [
    "print(\"Andi\" is \"Andi\")\n",
    "val1 = \"10\"\n",
    "val2 = 10\n",
    "val3 = val2\n",
    "print(val1 is val2)\n",
    "print(val1 is not val2)\n",
    "\n",
    "print(\"Memory Address dari val1\",id(val1))\n",
    "print(\"Memory Address dari val2\",id(val2))\n",
    "print(\"Memory Address dari val3\",id(val3))"
   ]
  },
  {
   "cell_type": "markdown",
   "id": "fbd793c2-5ead-46c5-a7f6-e0f89a8924c7",
   "metadata": {},
   "source": [
    "<h1>Operator Kanggotan</h1>"
   ]
  },
  {
   "cell_type": "code",
   "execution_count": 48,
   "id": "80d571a3-4e61-4107-8468-775776a55185",
   "metadata": {},
   "outputs": [
    {
     "name": "stdout",
     "output_type": "stream",
     "text": [
      "False\n",
      "True\n"
     ]
    }
   ],
   "source": [
    "find = [\"Budi\"]\n",
    "daftarMahasiswa = [\"Rudi\",\"Deni\",\"Nana\",\"Budi\"]\n",
    "\n",
    "print(find in daftarMahasiswa)\n",
    "print(find not in daftarMahasiswa)"
   ]
  },
  {
   "cell_type": "markdown",
   "id": "7c8e1894-4b5b-4c7e-a2e5-4419ea5c9e74",
   "metadata": {},
   "source": [
    "<h1>Operator Bitwise</h1>"
   ]
  },
  {
   "cell_type": "code",
   "execution_count": 51,
   "id": "23c12fa4-7f14-4d06-b923-330eae012142",
   "metadata": {},
   "outputs": [
    {
     "name": "stdin",
     "output_type": "stream",
     "text": [
      "Isikan Nilai 1: 65\n",
      "Isikan Nilai 2: 55\n"
     ]
    },
    {
     "name": "stdout",
     "output_type": "stream",
     "text": [
      "1\n",
      "119\n",
      "118\n",
      "2341871806232657920\n",
      "0\n"
     ]
    }
   ],
   "source": [
    "desimal1 = int(input(\"Isikan Nilai 1:\"))\n",
    "desimal2 = int(input(\"Isikan Nilai 2:\"))\n",
    "\n",
    "print(desimal1 & desimal2)\n",
    "print(desimal1 | desimal2)\n",
    "print(desimal1 ^ desimal2)\n",
    "print(desimal1 << desimal2)\n",
    "print(desimal1 >> desimal2)"
   ]
  },
  {
   "cell_type": "code",
   "execution_count": null,
   "id": "a78e9389-6863-41c9-90e8-ad843d012c15",
   "metadata": {},
   "outputs": [],
   "source": []
  }
 ],
 "metadata": {
  "kernelspec": {
   "display_name": "Python [conda env:base] *",
   "language": "python",
   "name": "conda-base-py"
  },
  "language_info": {
   "codemirror_mode": {
    "name": "ipython",
    "version": 3
   },
   "file_extension": ".py",
   "mimetype": "text/x-python",
   "name": "python",
   "nbconvert_exporter": "python",
   "pygments_lexer": "ipython3",
   "version": "3.12.7"
  }
 },
 "nbformat": 4,
 "nbformat_minor": 5
}
