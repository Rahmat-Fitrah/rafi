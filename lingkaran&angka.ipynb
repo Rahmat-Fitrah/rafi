{
 "cells": [
  {
   "cell_type": "code",
   "execution_count": 2,
   "id": "4228f011-d226-408e-96f5-bebebd2412da",
   "metadata": {},
   "outputs": [
    {
     "name": "stdout",
     "output_type": "stream",
     "text": [
      "hello word\n"
     ]
    }
   ],
   "source": [
    "print(\"hello word\")"
   ]
  },
  {
   "cell_type": "code",
   "execution_count": 3,
   "id": "2ecfe256-f64e-4adc-bb4d-d28bc2a7b88e",
   "metadata": {},
   "outputs": [
    {
     "name": "stdin",
     "output_type": "stream",
     "text": [
      "masukan Jari-jari lingkaran:  350\n"
     ]
    },
    {
     "name": "stdout",
     "output_type": "stream",
     "text": [
      "luas likaran: 384845.10006474965\n",
      "keliling lingkaran: 2199.114857512855\n"
     ]
    }
   ],
   "source": [
    "import math\n",
    "\n",
    "# Fungsi untuk mnghitung luas lingkaran & keliling lingkaran\n",
    "def luas_lingkaran(jari_jari):\n",
    "    return math.pi * jari_jari**2\n",
    "\n",
    "def keliling_lingkaran(jari_jari):\n",
    "    return 2 * math.pi * jari_jari\n",
    "\n",
    "jari_jari = float(input(\"masukan Jari-jari lingkaran: \"))\n",
    "\n",
    "luas = luas_lingkaran(jari_jari)\n",
    "keliling = keliling_lingkaran(jari_jari)\n",
    "\n",
    "print(\"luas likaran:\", luas)\n",
    "print(\"keliling lingkaran:\", keliling)"
   ]
  },
  {
   "cell_type": "code",
   "execution_count": 9,
   "id": "92239f68-f7bb-4bfc-b253-f8dd5afd9ba2",
   "metadata": {},
   "outputs": [
    {
     "name": "stdin",
     "output_type": "stream",
     "text": [
      "Masukan bilangan:  43\n"
     ]
    },
    {
     "name": "stdout",
     "output_type": "stream",
     "text": [
      "43 adalah bilangan ganjil\n"
     ]
    }
   ],
   "source": [
    "# input bilangan dari pengguna\n",
    "bilangan = int(input(\"Masukan bilangan: \"))\n",
    "\n",
    "if bilangan % 2 == 0:\n",
    "    print(bilangan, \"adalah bilangan genap\")\n",
    "else:\n",
    "    print(bilangan, \"adalah bilangan ganjil\")"
   ]
  },
  {
   "cell_type": "code",
   "execution_count": 11,
   "id": "73a760b4-36f2-4fca-9a8a-9a232407c159",
   "metadata": {},
   "outputs": [
    {
     "name": "stdout",
     "output_type": "stream",
     "text": [
      "134217728\n"
     ]
    }
   ],
   "source": [
    "print(8**9)"
   ]
  },
  {
   "cell_type": "code",
   "execution_count": 13,
   "id": "c80205cf-1b84-47b8-ad52-b8d81b4080cd",
   "metadata": {},
   "outputs": [
    {
     "name": "stdout",
     "output_type": "stream",
     "text": [
      "7\n"
     ]
    }
   ],
   "source": [
    "print(19%12)"
   ]
  },
  {
   "cell_type": "code",
   "execution_count": 15,
   "id": "6804828c-c380-4940-8bee-6ee4a762f929",
   "metadata": {},
   "outputs": [
    {
     "name": "stdout",
     "output_type": "stream",
     "text": [
      "512\n"
     ]
    }
   ],
   "source": [
    "print(64<<3)"
   ]
  },
  {
   "cell_type": "code",
   "execution_count": null,
   "id": "b120ae08-330a-4f0c-9483-92cde03dbfa4",
   "metadata": {},
   "outputs": [],
   "source": []
  }
 ],
 "metadata": {
  "kernelspec": {
   "display_name": "Python [conda env:base] *",
   "language": "python",
   "name": "conda-base-py"
  },
  "language_info": {
   "codemirror_mode": {
    "name": "ipython",
    "version": 3
   },
   "file_extension": ".py",
   "mimetype": "text/x-python",
   "name": "python",
   "nbconvert_exporter": "python",
   "pygments_lexer": "ipython3",
   "version": "3.12.7"
  }
 },
 "nbformat": 4,
 "nbformat_minor": 5
}
