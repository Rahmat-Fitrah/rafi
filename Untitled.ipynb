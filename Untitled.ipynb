{
 "cells": [
  {
   "cell_type": "markdown",
   "id": "bc3077ae-77a0-4cfb-861e-281f6353a752",
   "metadata": {},
   "source": [
    "<h4>for variabel in collection</h4>"
   ]
  },
  {
   "cell_type": "code",
   "execution_count": 2,
   "id": "4c81246b-6cf8-4c47-a879-9b5474dddfad",
   "metadata": {},
   "outputs": [
    {
     "name": "stdout",
     "output_type": "stream",
     "text": [
      "Nama Buah :apple\n",
      "Nama Buah :banana\n",
      "Nama Buah :wartermelon\n",
      "Nama Buah :pineapple\n"
     ]
    }
   ],
   "source": [
    "fruits = [\"apple\",\"banana\",\"wartermelon\",\"pineapple\"]\n",
    "for fruits in fruits :\n",
    "    print(f\"Nama Buah :{fruits}\")"
   ]
  },
  {
   "cell_type": "code",
   "execution_count": 4,
   "id": "41afbd40-f5ad-43a4-87eb-7b6f247dfec2",
   "metadata": {},
   "outputs": [
    {
     "name": "stdout",
     "output_type": "stream",
     "text": [
      "Nilai rata-rata : 71.42857142857143\n"
     ]
    }
   ],
   "source": [
    "#contoh:\n",
    "#Kelas TI24F punya data nilai pemrograman python 80,100,90,70,70,50,40\n",
    "#Carilah nilai rata-rata nilai pemrograman python di kelas TI24F\n",
    "\n",
    "nilaipython = [80,100,90,70,70,50,40]\n",
    "total = 0\n",
    "for nilai in nilaipython:\n",
    "    total += nilai\n",
    "\n",
    "rata2 = total / len(nilaipython)\n",
    "print(f\"Nilai rata-rata : {rata2}\")"
   ]
  },
  {
   "cell_type": "code",
   "execution_count": 10,
   "id": "14ee1bc9-b7e8-4c93-ba86-454210c1f7f9",
   "metadata": {},
   "outputs": [
    {
     "name": "stdout",
     "output_type": "stream",
     "text": [
      "0 : Jan\n",
      "1 : Feb\n",
      "2 : Mar\n",
      "3 : Apr\n",
      "4 : May\n",
      "5 : Jun\n",
      "6 : Jul\n",
      "7 : Aug\n",
      "8 : Sep\n"
     ]
    }
   ],
   "source": [
    "#Fnumerate\n",
    "month = [\"Jan\",\"Feb\",\"Mar\",\"Apr\",\"May\",\"Jun\",\"Jul\",\"Aug\",\"Sep\"]\n",
    "for i, m in enumerate(month):\n",
    "   print(f\"{i} : {m}\")"
   ]
  },
  {
   "cell_type": "code",
   "execution_count": 18,
   "id": "bafd8624-0004-4133-906e-da5e7328070f",
   "metadata": {},
   "outputs": [
    {
     "name": "stdin",
     "output_type": "stream",
     "text": [
      "Isikan Nama Kampus:  nusa putra\n"
     ]
    },
    {
     "name": "stdout",
     "output_type": "stream",
     "text": [
      "nadalahBukan Huruf Vokal|Total:0\n",
      "uadalahHuruf Vokal|Total:1\n",
      "sadalahBukan Huruf Vokal|Total:1\n",
      "aadalahHuruf Vokal|Total:2\n",
      " adalahBukan Huruf Vokal|Total:2\n",
      "padalahBukan Huruf Vokal|Total:2\n",
      "uadalahHuruf Vokal|Total:3\n",
      "tadalahBukan Huruf Vokal|Total:3\n",
      "radalahBukan Huruf Vokal|Total:3\n",
      "aadalahHuruf Vokal|Total:4\n",
      "Jumlah Total Huruf Vokal : 4\n"
     ]
    }
   ],
   "source": [
    "kampus = input (\"Isikan Nama Kampus: \")\n",
    "listVokal = [\"a\",\"i\",\"u\",\"e\",\"o\"]\n",
    "total = 0\n",
    "isVokal =\"\"\n",
    "for karakter in kampus:\n",
    "    if karakter in listVokal:\n",
    "        total +=1\n",
    "        isVokal = \"Huruf Vokal\"\n",
    "    else:\n",
    "        isVokal = \"Bukan Huruf Vokal\"\n",
    "    print(f\"{karakter}adalah{isVokal}|Total:{total}\") #berapa banyak huruf vokal 'a,i,u,e,o'\n",
    "print(f\"Jumlah Total Huruf Vokal : {total}\")"
   ]
  },
  {
   "cell_type": "code",
   "execution_count": 22,
   "id": "943bd006-313f-4c25-bca6-e144c5e41fe8",
   "metadata": {},
   "outputs": [
    {
     "name": "stdout",
     "output_type": "stream",
     "text": [
      "[1, 4, 9, 16, 25]\n"
     ]
    }
   ],
   "source": [
    "#looping list comprehension\n",
    "data = [1,2,3,4,5]\n",
    "pangkat = [x**2 for x in data]\n",
    "print(pangkat)"
   ]
  },
  {
   "cell_type": "code",
   "execution_count": 30,
   "id": "37fd0f31-27ea-4960-a014-e6d98d3fc42a",
   "metadata": {},
   "outputs": [
    {
     "name": "stdout",
     "output_type": "stream",
     "text": [
      "nilai i adalah:0\n",
      "nilai i adalah:1\n",
      "nilai i adalah:2\n",
      "nilai i adalah:3\n",
      "nilai i adalah:4\n",
      "nilai i adalah:5\n",
      "nilai i adalah:6\n",
      "nilai i adalah:7\n",
      "nilai i adalah:8\n",
      "nilai i adalah:9\n"
     ]
    }
   ],
   "source": [
    "#Range\n",
    "for i in range(10):\n",
    "    print(f\"nilai i adalah:{i}\")"
   ]
  },
  {
   "cell_type": "code",
   "execution_count": 32,
   "id": "a002377b-9fcb-41fe-8a49-a411f22892a4",
   "metadata": {},
   "outputs": [
    {
     "name": "stdout",
     "output_type": "stream",
     "text": [
      "Nilai j : 5\n",
      "Nilai j : 6\n",
      "Nilai j : 7\n",
      "Nilai j : 8\n",
      "Nilai j : 9\n"
     ]
    }
   ],
   "source": [
    "for j in range(5,10):\n",
    "    print(f\"Nilai j : {j}\")"
   ]
  },
  {
   "cell_type": "code",
   "execution_count": 50,
   "id": "c1c0f156-7ada-4709-a6a3-6393f46d40f9",
   "metadata": {},
   "outputs": [
    {
     "name": "stdin",
     "output_type": "stream",
     "text": [
      "isikan Bilangan: 6\n"
     ]
    },
    {
     "name": "stdout",
     "output_type": "stream",
     "text": [
      "6 adalah bukan prima\n"
     ]
    }
   ],
   "source": [
    "#cek bilangan prima atau bukan prima\n",
    "number = int(input(\"isikan Bilangan:\"))\n",
    "faktor = 0\n",
    "for i in range (1,number+1):\n",
    "    if number % i == 0:\n",
    "       faktor +=1\n",
    "if faktor==2:\n",
    "    print(f\"{number } adalah bilangan prima\")\n",
    "else:\n",
    "    print(F\"{number } adalah bukan prima\")"
   ]
  },
  {
   "cell_type": "code",
   "execution_count": 66,
   "id": "8f67909f-5520-4b69-ad90-9a18be78ff84",
   "metadata": {},
   "outputs": [
    {
     "name": "stdin",
     "output_type": "stream",
     "text": [
      "Isikan Bilangan : 4\n"
     ]
    },
    {
     "name": "stdout",
     "output_type": "stream",
     "text": [
      "4! = 24\n"
     ]
    }
   ],
   "source": [
    "#faktorial\n",
    "#3! 3*2*1 = 6\n",
    "#4! 4*3*2*1 =24\n",
    "total = 1\n",
    "number = int(input(\"Isikan Bilangan :\"))\n",
    "for i in range(1,number+1):\n",
    "    total *= i\n",
    "print(f\"{number}! = {total}\")"
   ]
  },
  {
   "cell_type": "code",
   "execution_count": 60,
   "id": "15c8bbac-a494-4fe5-8f1c-6f287c54ff15",
   "metadata": {},
   "outputs": [
    {
     "name": "stdin",
     "output_type": "stream",
     "text": [
      "Isikan Bilangan: 10\n"
     ]
    },
    {
     "name": "stdout",
     "output_type": "stream",
     "text": [
      "1 -2 3 -4 5 -6 7 -8 9 -10 "
     ]
    }
   ],
   "source": [
    "#1 -2 3 -4 5 -6 7 -8 9 -10\n",
    "number = int(input(\"Isikan Bilangan:\"))\n",
    "sign = 1\n",
    "for i in range(1,number+1):\n",
    "    result = sign * i\n",
    "    print(f\"{result} \",end='')\n",
    "    sign *= -1"
   ]
  },
  {
   "cell_type": "code",
   "execution_count": 74,
   "id": "5338f79f-1aa6-4459-81f2-bd8e24324389",
   "metadata": {},
   "outputs": [
    {
     "name": "stdout",
     "output_type": "stream",
     "text": [
      "Jumlah Penonton Laki-Laki:4\n",
      "jumlah penonton perempuan:3\n"
     ]
    }
   ],
   "source": [
    "KursiBioskop = [\"L\",\"P\",\"P\",\"L\",\"L\",\"P\",\"L\"]\n",
    "\n",
    "#Hitung jumlah penonton Laki-laki\n",
    "#HItung jumlah penonton perempuan\n",
    "\n",
    "totallaki = 0\n",
    "for jenis in KursiBioskop:\n",
    "    if jenis==\"L\":\n",
    "        totallaki +=1\n",
    "print(f\"Jumlah Penonton Laki-Laki:{totallaki}\")\n",
    "print(f\"jumlah penonton perempuan:{len(KursiBioskop)-totallaki}\")"
   ]
  },
  {
   "cell_type": "code",
   "execution_count": 76,
   "id": "142200ab-0ce9-4275-9a29-04d709738b99",
   "metadata": {},
   "outputs": [
    {
     "name": "stdout",
     "output_type": "stream",
     "text": [
      "Jumlah Couple:4\n"
     ]
    }
   ],
   "source": [
    "#Hitung jumlah orang yang kemungkinan berpasangan\n",
    "\n",
    "kursi = [\"L\",\"P\",\"P\",\"L\",\"L\",\"P\",\"L\"]\n",
    "couple = 0\n",
    "for i in range(len(kursi)-1):\n",
    "    if kursi [i] != kursi[i+1]:\n",
    "        couple+=1\n",
    "print(f\"Jumlah Couple:{couple}\")"
   ]
  },
  {
   "cell_type": "code",
   "execution_count": 78,
   "id": "9515e87d-67cc-4dff-8bd0-d36936ecbd68",
   "metadata": {},
   "outputs": [
    {
     "name": "stdout",
     "output_type": "stream",
     "text": [
      "fname : Dedi\n",
      "lname : Robi\n"
     ]
    }
   ],
   "source": [
    "data = {\n",
    "    \"fname\" : \"Dedi\",\n",
    "    \"lname\" : \"Robi\"\n",
    "}\n",
    "\n",
    "for key ,value in data.items():\n",
    "    print(f\"{key} : {value}\")"
   ]
  },
  {
   "cell_type": "code",
   "execution_count": null,
   "id": "5007d68f-1bd1-4db3-869d-baee5d9d90cd",
   "metadata": {},
   "outputs": [],
   "source": [
    "tahu =[10,10,10,10,10,10]\n",
    "\n",
    "#harga 1 tahu = 2000\n",
    "#jika ada orang beli 15 tahu"
   ]
  }
 ],
 "metadata": {
  "kernelspec": {
   "display_name": "Python [conda env:base] *",
   "language": "python",
   "name": "conda-base-py"
  },
  "language_info": {
   "codemirror_mode": {
    "name": "ipython",
    "version": 3
   },
   "file_extension": ".py",
   "mimetype": "text/x-python",
   "name": "python",
   "nbconvert_exporter": "python",
   "pygments_lexer": "ipython3",
   "version": "3.12.7"
  }
 },
 "nbformat": 4,
 "nbformat_minor": 5
}
