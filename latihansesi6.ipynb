{
 "cells": [
  {
   "cell_type": "code",
   "execution_count": 37,
   "id": "b5490734-ed0f-4758-99bd-53960a1b97d1",
   "metadata": {},
   "outputs": [
    {
     "name": "stdin",
     "output_type": "stream",
     "text": [
      "isikan umur anda : 20\n"
     ]
    },
    {
     "name": "stdout",
     "output_type": "stream",
     "text": [
      "kategori : Dewasa\n"
     ]
    }
   ],
   "source": [
    "usia = int (input(\"isikan umur anda :\"))\n",
    "if usia >0:\n",
    "   if usia <= 12:\n",
    "      print(\"kategori : Anak\")\n",
    "   elif usia <= 17:\n",
    "      print(\"kategori : Remaja\")\n",
    "   elif usia <= 59:\n",
    "      print(\"kategori : Dewasa\")\n",
    "   else  :\n",
    "      print(\"Kategori : Lansia\")\n",
    "else :\n",
    "    print(\"umur tidak valid:\")"
   ]
  },
  {
   "cell_type": "code",
   "execution_count": 23,
   "id": "d758df07-f6e9-4998-b5a4-27fa121e5861",
   "metadata": {},
   "outputs": [
    {
     "name": "stdin",
     "output_type": "stream",
     "text": [
      "isikan umur anda : 20\n"
     ]
    },
    {
     "name": "stdout",
     "output_type": "stream",
     "text": [
      "Kategori : Dewasa\n"
     ]
    }
   ],
   "source": [
    "usia = int (input(\"isikan umur anda :\"))\n",
    "if usia >= 59:\n",
    "    print(\"Kategori : Lansia\")\n",
    "elif usia >= 17:\n",
    "    print(\"Kategori : Dewasa\")\n",
    "elif usia >= 12:\n",
    "    print(\"Kategori : remaja\")\n",
    "elif usia  :\n",
    "    print(\"kategori : Anak\")"
   ]
  },
  {
   "cell_type": "code",
   "execution_count": 75,
   "id": "83029ab9-923f-4567-94cf-d16fea45bc52",
   "metadata": {},
   "outputs": [
    {
     "name": "stdin",
     "output_type": "stream",
     "text": [
      "Isikan Umur Tiket 1: 18\n",
      "Isikan Umur Tiket 2: 22\n",
      "Isikan Umur Tiket 3: 50\n"
     ]
    },
    {
     "name": "stdout",
     "output_type": "stream",
     "text": [
      "Tiket : 25.000\n",
      "Tiket 2 : 25.000\n",
      "Tiket 3 : 25.000\n",
      " TotalBiaya:75.0\n"
     ]
    }
   ],
   "source": [
    "tiket1 = int(input(\"Isikan Umur Tiket 1:\"))\n",
    "tiket2 = int(input(\"Isikan Umur Tiket 2:\"))\n",
    "tiket3 = int(input(\"Isikan Umur Tiket 3:\"))\n",
    "TotalBiaya = 0\n",
    "if tiket1 <13:\n",
    "    print(\"Tiket 1 : 10.000\")\n",
    "    TotalBiaya = TotalBiaya + 10.000\n",
    "elif tiket1 < 18:\n",
    "    print(\"Tiket : 15.000\")\n",
    "    TotalBiaya = TotalBiaya + 15.000\n",
    "elif tiket1 < 60:\n",
    "    print(\"Tiket : 25.000\")\n",
    "    TotalBiaya = TotalBiaya + 25.000\n",
    "else :\n",
    "    print(\"Tiket 1 : Gratis\")\n",
    "#########################################################\n",
    "if tiket2 <13:\n",
    "    print(\"Tiket 2 : 10.000\")\n",
    "    TotalBiaya = TotalBiaya + 10.000\n",
    "elif tiket2 < 18:\n",
    "    print(\"Tiket 2 : 15.000\")\n",
    "    TotalBiaya = TotalBiaya + 15.000\n",
    "elif tiket2 < 60:\n",
    "    print(\"Tiket 2 : 25.000\")\n",
    "    TotalBiaya = TotalBiaya + 25.000\n",
    "else :\n",
    "    (\"Tiket  2 :Gratis\")\n",
    "##########################################################\n",
    "if tiket3 <13:\n",
    "    print(\"Tiket 3 : 10.000\")\n",
    "    TotalBiaya = TotalBiaya + 10.000\n",
    "elif tiket3 < 18:\n",
    "    print(\"Tiket 3 : 15.000\")\n",
    "    TotalBiaya = TotalBiaya + 15.000\n",
    "elif tiket2 < 60:\n",
    "    print(\"Tiket 3 : 25.000\")\n",
    "    TotalBiaya = TotalBiaya + 25.000\n",
    "else :\n",
    "    (\"Tiket  3 :Gratis\")\n",
    "print(f\" TotalBiaya:{TotalBiaya}\")"
   ]
  },
  {
   "cell_type": "code",
   "execution_count": 89,
   "id": "7d429888-8a39-43b5-a9db-80671edd9f57",
   "metadata": {},
   "outputs": [
    {
     "name": "stdin",
     "output_type": "stream",
     "text": [
      "Masukan Nilai rapot 87\n",
      "Masukan Penghasilan Anda 4000000\n"
     ]
    },
    {
     "name": "stdout",
     "output_type": "stream",
     "text": [
      "Biasiswa 50%\n"
     ]
    }
   ],
   "source": [
    "nilai_rapot1 = int(input(\"Masukan Nilai rapot\"))\n",
    "Penghasilan = int(input(\"Masukan Penghasilan Anda\"))\n",
    "if nilai_rapot1 >= 90 and Penghasilan < 5000000:\n",
    "   print(\"beasiswa penuh\")\n",
    "elif nilai_rapot1 >= 85 and Penghasilan < 8000000:\n",
    "   print(\"Biasiswa 50%\")\n",
    "else :\n",
    "   print(\"tidak mendapat biasiswa\")"
   ]
  },
  {
   "cell_type": "code",
   "execution_count": 113,
   "id": "cbe2af4e-a55d-4e79-b38a-f579b3bd15cc",
   "metadata": {},
   "outputs": [
    {
     "name": "stdin",
     "output_type": "stream",
     "text": [
      "Masukan Jenis Kendaraan mobil/motor :  mobil\n",
      "jam masuk :  8\n",
      "jam keluar :  12\n"
     ]
    },
    {
     "name": "stdout",
     "output_type": "stream",
     "text": [
      "tarif mobil : 5000\n",
      "lamapakiran 4 jam\n",
      "Tambah biaya labih dari 5 jam : 10000\n",
      "Total pakir:20000\n"
     ]
    }
   ],
   "source": [
    "Jenis_kendaraan = input(\"Masukan Jenis Kendaraan mobil/motor : \")\n",
    "Jam_Masuk = int(input(\"jam masuk : \"))\n",
    "Jam_keluar = int(input(\"jam keluar : \"))\n",
    "\n",
    "tarifPerjam = 0\n",
    "if Jenis_kendaraan == \"motor\":\n",
    "    tarifPerjam = 2000\n",
    "elif Jenis_kendaraan == \"mobil\":\n",
    "    tarifPerjam = 5000\n",
    "else:\n",
    "    print(\"tidak menerima selain  mobil dan motor\")\n",
    "\n",
    "if Jam_Masuk >= Jam_keluar:\n",
    "    print(\"input jam masuk/keluar salah\")\n",
    "else:\n",
    "    totalTarif = (Jam_keluar-Jam_Masuk) * tarifPerjam\n",
    "\n",
    "print(f\"tarif {Jenis_kendaraan} : {tarifPerjam}\")\n",
    "print(f\"lamapakiran {Jam_keluar-Jam_Masuk} jam\")\n",
    "\n",
    "if Jam_keluar-Jam_Masuk > 5:\n",
    "   totalTarif += 10000\n",
    "print(\"Tambah biaya labih dari 5 jam : 10000\")\n",
    "print(f\"Total pakir:{totalTarif}\")"
   ]
  },
  {
   "cell_type": "code",
   "execution_count": 111,
   "id": "5ce7f89d-5d8d-4470-aa3e-64796c159524",
   "metadata": {},
   "outputs": [
    {
     "name": "stdin",
     "output_type": "stream",
     "text": [
      "Nomor punggung :  12\n"
     ]
    },
    {
     "name": "stdout",
     "output_type": "stream",
     "text": [
      "kamu memiliki pilihan posisi : Target Attacker\n"
     ]
    }
   ],
   "source": [
    "nomorPunggung = int(input(\"Nomor punggung : \"))\n",
    "posisi = \"\"\n",
    "if nomorPunggung % 2 == 0:\n",
    "    posisi += \"Target Attacker\"\n",
    "    if nomorPunggung >= 50 and nomorPunggung <= 100:\n",
    "        posisi += \"Berhak dipilih menjadi capten,\"\n",
    "else:\n",
    "    posisi += \"Defender,\"\n",
    "    if nomorPunggung > 90:\n",
    "        posisi += \"playmaker,\"\n",
    "    if nomorPunggung % 3 == 0 and nomorPunggung % 5 == 0:\n",
    "        posisi += \"keeper\"\n",
    "print(f\"kamu memiliki pilihan posisi : {posisi}\")"
   ]
  }
 ],
 "metadata": {
  "kernelspec": {
   "display_name": "Python [conda env:base] *",
   "language": "python",
   "name": "conda-base-py"
  },
  "language_info": {
   "codemirror_mode": {
    "name": "ipython",
    "version": 3
   },
   "file_extension": ".py",
   "mimetype": "text/x-python",
   "name": "python",
   "nbconvert_exporter": "python",
   "pygments_lexer": "ipython3",
   "version": "3.12.7"
  }
 },
 "nbformat": 4,
 "nbformat_minor": 5
}
