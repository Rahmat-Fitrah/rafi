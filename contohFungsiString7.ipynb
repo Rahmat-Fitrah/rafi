{
 "cells": [
  {
   "cell_type": "markdown",
   "id": "177e1d6d-670c-43f4-b652-68ad79874d51",
   "metadata": {},
   "source": [
    "<h1>Input String</h1>"
   ]
  },
  {
   "cell_type": "code",
   "execution_count": 6,
   "id": "81b81082-8479-4903-a573-9ddfd060b60a",
   "metadata": {},
   "outputs": [
    {
     "name": "stdin",
     "output_type": "stream",
     "text": [
      "Masukan nama Anda:  Rahmat Fitah\n"
     ]
    },
    {
     "name": "stdout",
     "output_type": "stream",
     "text": [
      "Hai, Rahmat Fitah!\n"
     ]
    }
   ],
   "source": [
    "# mengAMBIL INPUT STRING DARI PENGGUNA\n",
    "nama = input(\"Masukan nama Anda: \")\n",
    "print(\"Hai, \" + nama + \"!\")"
   ]
  },
  {
   "cell_type": "markdown",
   "id": "038f3ccf-1ac7-43f8-8c62-76ca8ec470be",
   "metadata": {},
   "source": [
    "<h1>output string</h1>"
   ]
  },
  {
   "cell_type": "code",
   "execution_count": 13,
   "id": "6ce8bfc1-e9d0-4732-b61b-6c06de8871af",
   "metadata": {},
   "outputs": [
    {
     "name": "stdout",
     "output_type": "stream",
     "text": [
      "Selamat datang di dunia pemrograman python!\n"
     ]
    }
   ],
   "source": [
    "# menampilkan String ke layar\n",
    "pesan = \"Selamat datang di dunia pemrograman python!\"\n",
    "print(pesan)"
   ]
  },
  {
   "cell_type": "markdown",
   "id": "14099436-e86f-4b03-9f76-f2b7808ba099",
   "metadata": {},
   "source": [
    "<h1>Menggabungkan String</h1>"
   ]
  },
  {
   "cell_type": "code",
   "execution_count": 19,
   "id": "c6cc39d1-7a35-4215-a615-b827a1fa167d",
   "metadata": {},
   "outputs": [
    {
     "name": "stdout",
     "output_type": "stream",
     "text": [
      "Nama Lengkap: Rahmat Fitrah\n",
      "Nama lengkap: Rahmat Fitrah\n"
     ]
    }
   ],
   "source": [
    "# Menggubungkan string menggunakan operator +\n",
    "nama_depan = \"Rahmat\"\n",
    "nama_belakang = \"Fitrah\"\n",
    "nama_lengkap = nama_depan + \" \" + nama_belakang\n",
    "print(\"Nama Lengkap: \" + nama_lengkap)\n",
    "\n",
    "# Menggabukan String menggunakan F-string\n",
    "print(f\"Nama lengkap: {nama_lengkap}\")"
   ]
  },
  {
   "cell_type": "code",
   "execution_count": 45,
   "id": "a161317f-473e-444f-a700-cf88836d6b30",
   "metadata": {},
   "outputs": [
    {
     "name": "stdout",
     "output_type": "stream",
     "text": [
      "\n",
      "1. Semua huruf Kapital:\n",
      "SELAMAT DATANG DI TI\n"
     ]
    }
   ],
   "source": [
    "#1.mengubah semua huruf menjadi kapital\n",
    "print(\"\\n1. Semua huruf Kapital:\")\n",
    "print(kalimat.upper())"
   ]
  },
  {
   "cell_type": "code",
   "execution_count": 47,
   "id": "be796c97-f596-4f09-b8e9-aeebdd774f68",
   "metadata": {},
   "outputs": [
    {
     "name": "stdout",
     "output_type": "stream",
     "text": [
      "\n",
      "2. Semua huruf kecil:\n",
      "selamat datang di ti\n"
     ]
    }
   ],
   "source": [
    "#2.Mengubah Semua Huruf Menjadi Huruf Kecil:\n",
    "print(\"\\n2. Semua huruf kecil:\")\n",
    "print(kalimat.lower())"
   ]
  },
  {
   "cell_type": "code",
   "execution_count": 49,
   "id": "d1cb1dd2-e582-4846-8c63-569e28213416",
   "metadata": {},
   "outputs": [
    {
     "name": "stdout",
     "output_type": "stream",
     "text": [
      "\n",
      "3. Huruf pertama kapital:\n",
      "Selamat datang di ti\n"
     ]
    }
   ],
   "source": [
    "#3.Mengubah Huruf Pertama Menjadi Kapital:\n",
    "print(\"\\n3. Huruf pertama kapital:\")\n",
    "print(kalimat.capitalize())"
   ]
  },
  {
   "cell_type": "code",
   "execution_count": 51,
   "id": "5338b887-9fc4-4526-8cab-0a825955b8af",
   "metadata": {},
   "outputs": [
    {
     "name": "stdout",
     "output_type": "stream",
     "text": [
      "\n",
      "4. 5 karakter pertama:\n",
      "selam\n"
     ]
    }
   ],
   "source": [
    "#4.Memotong String (Mengambil 5 Karakter Pertama):\n",
    "print(\"\\n4. 5 karakter pertama:\")\n",
    "print(kalimat[:5])"
   ]
  },
  {
   "cell_type": "code",
   "execution_count": 53,
   "id": "899aaab2-9fb0-449e-8577-c092c545bebf",
   "metadata": {},
   "outputs": [
    {
     "name": "stdin",
     "output_type": "stream",
     "text": [
      "\n",
      "Masukkan kata yang ingin diganti:  sekarang\n",
      "Masukkan kata pengganti:  datang\n"
     ]
    },
    {
     "name": "stdout",
     "output_type": "stream",
     "text": [
      "\n",
      "5. Kalimat setelah penggantian:\n",
      "selamat datang di ti\n"
     ]
    }
   ],
   "source": [
    "#5.Mengganti Kata dalam String:\n",
    "kata_lama = input(\"\\nMasukkan kata yang ingin diganti: \")\n",
    "kata_baru = input(\"Masukkan kata pengganti: \")\n",
    "kalimat_baru = kalimat.replace(kata_lama, kata_baru)\n",
    "print(\"\\n5. Kalimat setelah penggantian:\")\n",
    "print(kalimat_baru)"
   ]
  },
  {
   "cell_type": "code",
   "execution_count": 55,
   "id": "af996609-0eb3-4222-848a-a56094324e33",
   "metadata": {},
   "outputs": [
    {
     "name": "stdout",
     "output_type": "stream",
     "text": [
      "\n",
      "6. Jumlah karakter dalam kalimat:\n",
      "20\n"
     ]
    }
   ],
   "source": [
    "#6.Menghitung Jumlah Karakter dalam String:\n",
    "print(\"\\n6. Jumlah karakter dalam kalimat:\")\n",
    "print(len(kalimat))"
   ]
  },
  {
   "cell_type": "code",
   "execution_count": 59,
   "id": "0bb49737-527c-4bb6-b54d-87cc6bb3598c",
   "metadata": {},
   "outputs": [
    {
     "name": "stdin",
     "output_type": "stream",
     "text": [
      "\n",
      "Masukkan tambahan string:  sekarang\n"
     ]
    },
    {
     "name": "stdout",
     "output_type": "stream",
     "text": [
      "\n",
      "7. Hasil penggabungan:\n",
      "selamat datang di ti sekarang\n"
     ]
    }
   ],
   "source": [
    "#7.Menggabungkan String:\n",
    "tambahan = input(\"\\nMasukkan tambahan string: \")\n",
    "gabungan = kalimat + \" \" + tambahan\n",
    "print(\"\\n7. Hasil penggabungan:\")\n",
    "print(gabungan)"
   ]
  }
 ],
 "metadata": {
  "kernelspec": {
   "display_name": "Python [conda env:base] *",
   "language": "python",
   "name": "conda-base-py"
  },
  "language_info": {
   "codemirror_mode": {
    "name": "ipython",
    "version": 3
   },
   "file_extension": ".py",
   "mimetype": "text/x-python",
   "name": "python",
   "nbconvert_exporter": "python",
   "pygments_lexer": "ipython3",
   "version": "3.12.7"
  }
 },
 "nbformat": 4,
 "nbformat_minor": 5
}
