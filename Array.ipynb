{
 "cells": [
  {
   "cell_type": "code",
   "execution_count": 3,
   "id": "1fdc84dc-561e-4a26-bfcb-abceced1025a",
   "metadata": {},
   "outputs": [],
   "source": [
    "import numpy as np"
   ]
  },
  {
   "cell_type": "code",
   "execution_count": 25,
   "id": "80f53627-3950-4963-bda1-2ce5e95d589a",
   "metadata": {},
   "outputs": [],
   "source": [
    "#Matrik 1D\n",
    "mat1D = np.array([1,2,3,4,5,6,7,8,9,10,])\n",
    "mat2D = np.array([[1,2,3],[4,5,6],[7,8,9]])"
   ]
  },
  {
   "cell_type": "code",
   "execution_count": 13,
   "id": "33bb8ab6-5e2c-40d8-a6d3-6aaf9e5864f8",
   "metadata": {},
   "outputs": [
    {
     "name": "stdout",
     "output_type": "stream",
     "text": [
      "[ 1  2  3  4  5  6  7  8  9 10]\n"
     ]
    }
   ],
   "source": [
    "print(mat1D)"
   ]
  },
  {
   "cell_type": "code",
   "execution_count": 17,
   "id": "3e45b789-123c-44e9-a2b8-4af32297ccb4",
   "metadata": {},
   "outputs": [
    {
     "name": "stdout",
     "output_type": "stream",
     "text": [
      "1\n"
     ]
    }
   ],
   "source": [
    "print(mat1D[0])"
   ]
  },
  {
   "cell_type": "code",
   "execution_count": 19,
   "id": "dc9602b8-8f5c-43d8-be19-785fb1e394a5",
   "metadata": {},
   "outputs": [
    {
     "name": "stdout",
     "output_type": "stream",
     "text": [
      "[ 6  7  8  9 10 11 12 13 14 15]\n"
     ]
    }
   ],
   "source": [
    "print(mat1D + 5)"
   ]
  },
  {
   "cell_type": "code",
   "execution_count": 30,
   "id": "2d3209be-3523-4bc0-9a0e-31a4e5aaf285",
   "metadata": {},
   "outputs": [
    {
     "name": "stdout",
     "output_type": "stream",
     "text": [
      "[[1 2 3]\n",
      " [4 5 6]\n",
      " [7 8 9]]\n"
     ]
    }
   ],
   "source": [
    "print(mat2D)"
   ]
  },
  {
   "cell_type": "code",
   "execution_count": 40,
   "id": "e0343efd-1e5c-4150-8115-d89b6f9ddceb",
   "metadata": {},
   "outputs": [
    {
     "name": "stdout",
     "output_type": "stream",
     "text": [
      "[1 2 3]\n",
      "[4 5 6]\n",
      "[7 8 9]\n"
     ]
    }
   ],
   "source": [
    "print(mat2D[0])\n",
    "print(mat2D[1])\n",
    "print(mat2D[2])"
   ]
  },
  {
   "cell_type": "code",
   "execution_count": 42,
   "id": "bde2a910-2bda-4419-b9ff-3f50c6062571",
   "metadata": {},
   "outputs": [
    {
     "name": "stdout",
     "output_type": "stream",
     "text": [
      "3\n"
     ]
    }
   ],
   "source": [
    "print(mat2D[0][2])"
   ]
  },
  {
   "cell_type": "code",
   "execution_count": 46,
   "id": "f23a5245-5312-47ab-9b59-48b3b4e44187",
   "metadata": {},
   "outputs": [
    {
     "name": "stdout",
     "output_type": "stream",
     "text": [
      "[[10 20 30]\n",
      " [40 50 60]\n",
      " [70 80 90]]\n"
     ]
    }
   ],
   "source": [
    "print(mat2D * [10])"
   ]
  },
  {
   "cell_type": "code",
   "execution_count": 54,
   "id": "e98bb546-6609-44a0-ae0f-4f65ea3b7d22",
   "metadata": {},
   "outputs": [
    {
     "name": "stdout",
     "output_type": "stream",
     "text": [
      "(10,)\n",
      "(3, 3)\n"
     ]
    }
   ],
   "source": [
    "print(mat1D.shape)\n",
    "print(mat2D.shape)"
   ]
  },
  {
   "cell_type": "code",
   "execution_count": 58,
   "id": "c3e8bf61-182b-4d8a-a803-219fb69ad43a",
   "metadata": {},
   "outputs": [
    {
     "name": "stdout",
     "output_type": "stream",
     "text": [
      "10\n",
      "9\n"
     ]
    }
   ],
   "source": [
    "print(mat1D.size)\n",
    "print(mat2D.size)"
   ]
  },
  {
   "cell_type": "code",
   "execution_count": 92,
   "id": "4864cfab-9d19-4fa5-a2ec-ff6c768a34aa",
   "metadata": {},
   "outputs": [],
   "source": [
    "#Special Matrix\n",
    "mZero = np.zeros((3,3))\n",
    "mIdentity = np.eye((4))\n",
    "mFull = np.full((4,4),7)\n",
    "mOne = np.ones((5,4))\n",
    "mRandomFloat = np.random.rand(5,5)\n",
    "mRandomInt = np.random.randint(10,101, size=6)"
   ]
  },
  {
   "cell_type": "code",
   "execution_count": 94,
   "id": "34c3ffa2-d34e-46e0-9773-2b70df18cbdd",
   "metadata": {},
   "outputs": [
    {
     "name": "stdout",
     "output_type": "stream",
     "text": [
      "[[0. 0. 0.]\n",
      " [0. 0. 0.]\n",
      " [0. 0. 0.]]\n"
     ]
    }
   ],
   "source": [
    "print(mZero)"
   ]
  },
  {
   "cell_type": "code",
   "execution_count": 96,
   "id": "9eebbe45-d937-441b-b403-e9d4c8b94d8c",
   "metadata": {},
   "outputs": [
    {
     "name": "stdout",
     "output_type": "stream",
     "text": [
      "[[1. 0. 0. 0.]\n",
      " [0. 1. 0. 0.]\n",
      " [0. 0. 1. 0.]\n",
      " [0. 0. 0. 1.]]\n"
     ]
    }
   ],
   "source": [
    "print(mIdentity)"
   ]
  },
  {
   "cell_type": "code",
   "execution_count": 98,
   "id": "61008475-0457-4377-9968-3fd518551970",
   "metadata": {},
   "outputs": [
    {
     "name": "stdout",
     "output_type": "stream",
     "text": [
      "[[1. 1. 1. 1.]\n",
      " [1. 1. 1. 1.]\n",
      " [1. 1. 1. 1.]\n",
      " [1. 1. 1. 1.]\n",
      " [1. 1. 1. 1.]]\n"
     ]
    }
   ],
   "source": [
    "print(mOne)"
   ]
  },
  {
   "cell_type": "code",
   "execution_count": 100,
   "id": "92d50ee7-94c3-4b79-9585-31b391ba802b",
   "metadata": {},
   "outputs": [
    {
     "name": "stdout",
     "output_type": "stream",
     "text": [
      "[[0.03490731 0.93719759 0.6558954  0.47472141 0.27507813]\n",
      " [0.72684079 0.01304729 0.1982115  0.30596881 0.1075603 ]\n",
      " [0.42905381 0.59655616 0.14830719 0.1394716  0.92458805]\n",
      " [0.49934479 0.89975231 0.19829495 0.43324848 0.1800268 ]\n",
      " [0.887491   0.81110113 0.11797823 0.17250341 0.59567498]]\n"
     ]
    }
   ],
   "source": [
    "print(mRandomFloat)"
   ]
  },
  {
   "cell_type": "code",
   "execution_count": 104,
   "id": "47dab44a-4269-41b9-8efa-295f24bef9f6",
   "metadata": {},
   "outputs": [
    {
     "name": "stdout",
     "output_type": "stream",
     "text": [
      "[24 74 65 21 81 20]\n"
     ]
    }
   ],
   "source": [
    "print(mRandomInt)"
   ]
  },
  {
   "cell_type": "code",
   "execution_count": 122,
   "id": "c9143f81-1a09-430d-b8d7-f9131ee4d6cc",
   "metadata": {},
   "outputs": [
    {
     "name": "stdout",
     "output_type": "stream",
     "text": [
      "Hasil dari dot Product : 114\n",
      "Hasil penjumlahan matrix : [ 4 12 10 12  9  7]\n",
      "nilai minimum dari [2 6 9 5 6 3]: 2\n",
      "Nilai Maksimum dari [2 6 1 7 3 4]: 7\n",
      "Rata Rata Nilai dari [2 6 1 7 3 4] : 3.8333333333333335\n",
      "nilai median dari [2 6 1 7 3 4] : 3.5\n",
      "Nilai Deviasi Dari [2 6 1 7 3 4] : 2.1147629234082532\n"
     ]
    }
   ],
   "source": [
    "x = np.array([2,6,9,5,6,3])\n",
    "y = np.array([2,6,1,7,3,4])\n",
    "\n",
    "dotProduct = np.dot(x,y)\n",
    "addMatrix = np.add(x,y)\n",
    "minValue = np.min(x)\n",
    "maxValue = np.max(y)\n",
    "meanValue = np. mean(y)\n",
    "medianValue = np.median(y)\n",
    "stdValue = np.std(y)\n",
    "\n",
    "print(f\"Hasil dari dot Product : {dotProduct}\")\n",
    "print(f\"Hasil penjumlahan matrix : {addMatrix}\")\n",
    "print(f\"nilai minimum dari {x}: {minValue}\")\n",
    "print(f\"Nilai Maksimum dari {y}: {maxValue}\")\n",
    "print(f\"Rata Rata Nilai dari {y} : {meanValue}\")\n",
    "print(f\"nilai median dari {y} : {medianValue}\")\n",
    "print(f\"Nilai Deviasi Dari {y} : {stdValue}\")"
   ]
  },
  {
   "cell_type": "code",
   "execution_count": 130,
   "id": "89099d4d-fa29-4dcf-8374-e8497ff9457e",
   "metadata": {},
   "outputs": [
    {
     "name": "stdout",
     "output_type": "stream",
     "text": [
      "[[1 2]\n",
      " [3 4]\n",
      " [5 6]]\n",
      "[1 2 3 4 5 6]\n"
     ]
    }
   ],
   "source": [
    "myArray = np.array([[1,2,3],[4,5,6]])\n",
    "\n",
    "reshape = myArray.reshape(3,2)\n",
    "flatten = myArray.flatten()\n",
    "\n",
    "print(reshape)\n",
    "print(flatten)"
   ]
  },
  {
   "cell_type": "code",
   "execution_count": 138,
   "id": "d08f662c-df04-46b4-8e7b-4472861b8d60",
   "metadata": {},
   "outputs": [
    {
     "name": "stdout",
     "output_type": "stream",
     "text": [
      "[ 80  90  60 100  95]\n",
      "jumlah siswa yang lulus:5\n"
     ]
    }
   ],
   "source": [
    "#Filtering\n",
    "nilaiSiswa = np.array([80,90,60,50,50,100,95])\n",
    "Lulus = nilaiSiswa[nilaiSiswa > 50]\n",
    "jumlah = Lulus.size\n",
    "print(Lulus)\n",
    "print(f\"jumlah siswa yang lulus:{jumlah}\")"
   ]
  }
 ],
 "metadata": {
  "kernelspec": {
   "display_name": "Python [conda env:base] *",
   "language": "python",
   "name": "conda-base-py"
  },
  "language_info": {
   "codemirror_mode": {
    "name": "ipython",
    "version": 3
   },
   "file_extension": ".py",
   "mimetype": "text/x-python",
   "name": "python",
   "nbconvert_exporter": "python",
   "pygments_lexer": "ipython3",
   "version": "3.12.7"
  }
 },
 "nbformat": 4,
 "nbformat_minor": 5
}
