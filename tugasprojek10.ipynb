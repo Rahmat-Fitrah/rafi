{
 "cells": [
  {
   "cell_type": "code",
   "execution_count": 3,
   "id": "2f088392-eb73-43e4-a599-f02e7c8c3ffa",
   "metadata": {},
   "outputs": [],
   "source": [
    "datalist = {}"
   ]
  },
  {
   "cell_type": "code",
   "execution_count": 4,
   "id": "9d0e7825-88e3-4215-8b45-d84c5ce02135",
   "metadata": {},
   "outputs": [],
   "source": [
    "def addStudent():\n",
    "    id_student = int(input(\"Masukan ID Mahasiswa:\"))\n",
    "    name_student = input(\"Masukan Nama Mahasiswa:\")\n",
    "    major_student = input(\"Masukan Prodi Mahasiswa:\")\n",
    "    IPK_student = float(input(\"Masukan IPK Mahasiswa:\"))\n",
    "    temp = []\n",
    "    temp.append(name_student)\n",
    "    temp.append(major_student)\n",
    "    temp.append(IPK_student)\n",
    "    temp = tuple(temp)\n",
    "    datalist[id_student] = temp"
   ]
  },
  {
   "cell_type": "code",
   "execution_count": 5,
   "id": "f7fa200e-42d4-4595-af1c-4650cbb276ec",
   "metadata": {},
   "outputs": [],
   "source": [
    "def readStudent():\n",
    "    print(datalist)"
   ]
  },
  {
   "cell_type": "code",
   "execution_count": 6,
   "id": "f83d0d44-a68f-43c4-9404-6d7f3fa64f5c",
   "metadata": {},
   "outputs": [],
   "source": [
    "def findStudent():\n",
    "    id_student = int(input(\"Masukan ID Mahasiswa yang akan dicari:\"))\n",
    "    if id_student in datalist:\n",
    "        print(datalist[id_student])\n",
    "    else:\n",
    "        print(\"Mahasiswa tidak ditemukan\")"
   ]
  },
  {
   "cell_type": "code",
   "execution_count": 7,
   "id": "075765f7-054d-43f2-ba17-659df0bfc3fb",
   "metadata": {},
   "outputs": [],
   "source": [
    "def updateIPKStudent():\n",
    "    id_student = int(input(\"Masukan ID Mahasiswa yang akan di update IPK:\"))\n",
    "    update_IPK = float(input(\"Masukan IPK yang terbaru:\"))\n",
    "    temp = list(datalist[id_student])\n",
    "    temp[2] = update_IPK\n",
    "    temp = tuple(temp)\n",
    "    datalist[id_student] = temp"
   ]
  },
  {
   "cell_type": "code",
   "execution_count": 13,
   "id": "1dc0b307-0c84-435c-9cab-9c7d76be3230",
   "metadata": {},
   "outputs": [],
   "source": [
    "def delStudent():\n",
    "    id_student = int(input(\"Masukan ID Mahasiswa yang akan dihapus:\"))\n",
    "    del datalist[id_student]"
   ]
  },
  {
   "cell_type": "code",
   "execution_count": null,
   "id": "63852890-3750-406b-9960-426e416d0727",
   "metadata": {},
   "outputs": [
    {
     "name": "stdout",
     "output_type": "stream",
     "text": [
      "---Menu--- \n",
      "\n",
      "1.Tambahkan Mahasiswa \n",
      "2.Tampilkan Seluruh Mahasiswa \n",
      "3.Cari Mahasiswa \n",
      "4.Update IPK Mahasiswa \n",
      "5.Hapus Mahasiswa \n",
      "6.Keluar\n"
     ]
    },
    {
     "name": "stdin",
     "output_type": "stream",
     "text": [
      " 1\n",
      "Masukan ID Mahasiswa: 1627\n",
      "Masukan Nama Mahasiswa: rahmat\n",
      "Masukan Prodi Mahasiswa: ti\n",
      "Masukan IPK Mahasiswa: 3\n"
     ]
    },
    {
     "name": "stdout",
     "output_type": "stream",
     "text": [
      "---Menu--- \n",
      "\n",
      "1.Tambahkan Mahasiswa \n",
      "2.Tampilkan Seluruh Mahasiswa \n",
      "3.Cari Mahasiswa \n",
      "4.Update IPK Mahasiswa \n",
      "5.Hapus Mahasiswa \n",
      "6.Keluar\n"
     ]
    }
   ],
   "source": [
    "i = True\n",
    "while i is True:\n",
    "    print(\"---Menu--- \\n\\n1.Tambahkan Mahasiswa \\n2.Tampilkan Seluruh Mahasiswa \\n3.Cari Mahasiswa \\n4.Update IPK Mahasiswa \\n5.Hapus Mahasiswa \\n6.Keluar\")\n",
    "    pilihan = int(input())\n",
    "    \n",
    "    if pilihan == 1:\n",
    "        addStudent()\n",
    "    \n",
    "    elif pilihan == 2:\n",
    "        readStudent()\n",
    "    \n",
    "    elif pilihan == 3:\n",
    "        findStudent()\n",
    "    \n",
    "    elif pilihan == 4:\n",
    "        updateIPKStudent()\n",
    "    \n",
    "    elif pilihan == 5:\n",
    "        delStudent()\n",
    "    \n",
    "    elif pilihan == 6:\n",
    "        i = False\n",
    "    else:\n",
    "        print(\"Masukan angka yang ada di menu (1-6)\")"
   ]
  },
  {
   "cell_type": "code",
   "execution_count": null,
   "id": "73da7e1c-5ab1-4197-9d56-8bbc1df23259",
   "metadata": {},
   "outputs": [],
   "source": []
  },
  {
   "cell_type": "code",
   "execution_count": null,
   "id": "ebae1e3a-73c7-4ec9-8c01-ee49be301d39",
   "metadata": {},
   "outputs": [],
   "source": []
  }
 ],
 "metadata": {
  "kernelspec": {
   "display_name": "Python [conda env:base] *",
   "language": "python",
   "name": "conda-base-py"
  },
  "language_info": {
   "codemirror_mode": {
    "name": "ipython",
    "version": 3
   },
   "file_extension": ".py",
   "mimetype": "text/x-python",
   "name": "python",
   "nbconvert_exporter": "python",
   "pygments_lexer": "ipython3",
   "version": "3.12.7"
  }
 },
 "nbformat": 4,
 "nbformat_minor": 5
}
