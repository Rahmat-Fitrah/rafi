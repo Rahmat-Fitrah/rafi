{
 "cells": [
  {
   "cell_type": "code",
   "execution_count": 3,
   "id": "8640a692-f846-4e27-8641-102442045fb1",
   "metadata": {},
   "outputs": [
    {
     "name": "stdin",
     "output_type": "stream",
     "text": [
      "Masukkan kalimat:  a\n"
     ]
    },
    {
     "name": "stdout",
     "output_type": "stream",
     "text": [
      "Kalimat setelah penggantian:\n",
      "4\n"
     ]
    }
   ],
   "source": [
    "def replace_characters(sentence):\n",
    "    # Mengganti huruf sesuai dengan ketentuan\n",
    "    replacements = {\n",
    "        'A': '4', 'a': '4',\n",
    "        'E': '3', 'e': '3',\n",
    "        'S': '5', 's': '5',\n",
    "        'L': '7'\n",
    "    }\n",
    "    \n",
    "    # Mengganti karakter dalam kalimat\n",
    "    for char, replacement in replacements.items():\n",
    "        sentence = sentence.replace(char, replacement)\n",
    "    \n",
    "    return sentence\n",
    "\n",
    "# Input kalimat dari pengguna\n",
    "input_sentence = input(\"Masukkan kalimat: \")\n",
    "output_sentence = replace_characters(input_sentence)\n",
    "\n",
    "print(\"Kalimat setelah penggantian:\")\n",
    "print(output_sentence)"
   ]
  },
  {
   "cell_type": "code",
   "execution_count": 13,
   "id": "54e46fb0-c669-46a6-a7d4-5f6bca81d3ef",
   "metadata": {},
   "outputs": [
    {
     "name": "stdin",
     "output_type": "stream",
     "text": [
      "Masukkan angka:  12\n"
     ]
    },
    {
     "name": "stdout",
     "output_type": "stream",
     "text": [
      "12 adalah bilangan spesial karena habis dibagi 3.\n"
     ]
    }
   ],
   "source": [
    "def is_special_number(number):\n",
    "    # Menghitung jumlah digit\n",
    "    digit_sum = sum(int(digit) for digit in str(number))\n",
    "    \n",
    "    # Memeriksa apakah number habis dibagi digit_sum\n",
    "    if number % digit_sum == 0:\n",
    "        return True, digit_sum\n",
    "    else:\n",
    "        return False, digit_sum\n",
    "\n",
    "# Input angka dari pengguna\n",
    "input_number = int(input(\"Masukkan angka: \"))\n",
    "\n",
    "# Memeriksa apakah angka tersebut adalah bilangan spesial\n",
    "special, digit_sum = is_special_number(input_number)\n",
    "\n",
    "# Menampilkan hasil\n",
    "if special:\n",
    "    print(f\"{input_number} adalah bilangan spesial karena habis dibagi {digit_sum}.\")\n",
    "else:\n",
    "    print(f\"{input_number} bukan bilangan spesial karena tidak habis dibagi {digit_sum}.\")"
   ]
  }
 ],
 "metadata": {
  "kernelspec": {
   "display_name": "Python [conda env:base] *",
   "language": "python",
   "name": "conda-base-py"
  },
  "language_info": {
   "codemirror_mode": {
    "name": "ipython",
    "version": 3
   },
   "file_extension": ".py",
   "mimetype": "text/x-python",
   "name": "python",
   "nbconvert_exporter": "python",
   "pygments_lexer": "ipython3",
   "version": "3.12.7"
  }
 },
 "nbformat": 4,
 "nbformat_minor": 5
}
