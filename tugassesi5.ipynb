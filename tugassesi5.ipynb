{
 "cells": [
  {
   "cell_type": "code",
   "execution_count": 3,
   "id": "54eadc96-bfe0-410a-a405-c685603cabad",
   "metadata": {},
   "outputs": [
    {
     "name": "stdin",
     "output_type": "stream",
     "text": [
      "Masukan Nama Anda : Rahmat Fitrah\n",
      "Masukan Nim anda : 20240040104\n",
      "Masukan nama kampus :  nusa putra\n",
      "Masukan Nama falkultas Anda :  teknik\n",
      "Masukan nama Jurusan anda :  informatika\n",
      "masukan tempat,Tanggal lahir anda :  jayapura,12-maret-2005\n",
      "Masukan Nama Alamat anda :  JL.K.AHMAD SANUSI KP KEBONJATI\n"
     ]
    },
    {
     "name": "stdout",
     "output_type": "stream",
     "text": [
      "NAMA : Rahmat Fitrah!\n",
      "NIM : 20240040104!\n",
      "kampus : nusa putra!\n",
      "falkultas : teknik!\n",
      "jurusan : informatika!\n",
      "TEMPAT, TANGGAL LAHIR : jayapura,12-maret-2005!\n",
      "Alamat : JL.K.AHMAD SANUSI KP KEBONJATI!\n"
     ]
    }
   ],
   "source": [
    "nama = input (\"Masukan Nama Anda :\")\n",
    "nim = input (\"Masukan Nim anda :\")\n",
    "kampus = input (\"Masukan nama kampus : \")\n",
    "falkultas = input (\"Masukan Nama falkultas Anda : \")\n",
    "jurusan = input (\"Masukan nama Jurusan anda : \")\n",
    "TempatTanggalLahir = input (\"masukan tempat,Tanggal lahir anda : \")\n",
    "Alamat = input (\"Masukan Nama Alamat anda : \")\n",
    "\n",
    "print(\"NAMA : \" + nama + \"!\")\n",
    "print(\"NIM : \" + nim + \"!\")\n",
    "print(\"kampus : \" + kampus + \"!\") \n",
    "print(\"falkultas : \" + falkultas + \"!\") \n",
    "print(\"jurusan : \" + jurusan + \"!\") \n",
    "print(\"TEMPAT, TANGGAL LAHIR : \" + TempatTanggalLahir + \"!\")\n",
    "print(\"Alamat : \" + Alamat + \"!\")"
   ]
  },
  {
   "cell_type": "code",
   "execution_count": 49,
   "id": "d5fb6aeb-b8bf-4e83-95c5-b4d52c8398b3",
   "metadata": {},
   "outputs": [
    {
     "name": "stdout",
     "output_type": "stream",
     "text": [
      "kalimat: UNIVERSITAS NUSA PUTRA SUKABUMI\n",
      "a.putra nusa\n",
      "b.NIVERSITAS NSA PTRA SKABMI\n",
      "c.SUKABUMI PUTRA NUSA UNIVERSITAS\n",
      "d.UNPS\n",
      "e.TAS SAPU BUMI\n"
     ]
    }
   ],
   "source": [
    "print(\"kalimat: \"\"UNIVERSITAS NUSA PUTRA SUKABUMI\")\n",
    "\n",
    "a = \"a.putra nusa\"\n",
    "b = \"b.NIVERSITAS NSA PTRA SKABMI\"\n",
    "c = \"c.SUKABUMI PUTRA NUSA UNIVERSITAS\"\n",
    "d = \"d.UNPS\"\n",
    "e = \"e.TAS SAPU BUMI\"\n",
    "\n",
    "print(a)\n",
    "print(b)\n",
    "print(c)\n",
    "print(d)\n",
    "print(e)\n"
   ]
  }
 ],
 "metadata": {
  "kernelspec": {
   "display_name": "Python [conda env:base] *",
   "language": "python",
   "name": "conda-base-py"
  },
  "language_info": {
   "codemirror_mode": {
    "name": "ipython",
    "version": 3
   },
   "file_extension": ".py",
   "mimetype": "text/x-python",
   "name": "python",
   "nbconvert_exporter": "python",
   "pygments_lexer": "ipython3",
   "version": "3.12.7"
  }
 },
 "nbformat": 4,
 "nbformat_minor": 5
}
